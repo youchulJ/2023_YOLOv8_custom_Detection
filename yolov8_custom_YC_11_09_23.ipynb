{
  "nbformat": 4,
  "nbformat_minor": 0,
  "metadata": {
    "colab": {
      "provenance": [],
      "gpuType": "T4",
      "authorship_tag": "ABX9TyNMUH+fVuJ4ZLR0mKilhJpP",
      "include_colab_link": true
    },
    "kernelspec": {
      "name": "python3",
      "display_name": "Python 3"
    },
    "language_info": {
      "name": "python"
    },
    "accelerator": "GPU",
    "widgets": {
      "application/vnd.jupyter.widget-state+json": {
        "80891fa774994d85bc558123b5b358c9": {
          "model_module": "@jupyter-widgets/controls",
          "model_name": "HBoxModel",
          "model_module_version": "1.5.0",
          "state": {
            "_dom_classes": [],
            "_model_module": "@jupyter-widgets/controls",
            "_model_module_version": "1.5.0",
            "_model_name": "HBoxModel",
            "_view_count": null,
            "_view_module": "@jupyter-widgets/controls",
            "_view_module_version": "1.5.0",
            "_view_name": "HBoxView",
            "box_style": "",
            "children": [
              "IPY_MODEL_48fcb70a4d9c4c9fb5c6a81484804312",
              "IPY_MODEL_1f604c3b4ee34ba3ab13670b09723420",
              "IPY_MODEL_ecfa79f7dea142fd97d141555eefb95b"
            ],
            "layout": "IPY_MODEL_e7712a07424b4466844a40897027eff0"
          }
        },
        "48fcb70a4d9c4c9fb5c6a81484804312": {
          "model_module": "@jupyter-widgets/controls",
          "model_name": "HTMLModel",
          "model_module_version": "1.5.0",
          "state": {
            "_dom_classes": [],
            "_model_module": "@jupyter-widgets/controls",
            "_model_module_version": "1.5.0",
            "_model_name": "HTMLModel",
            "_view_count": null,
            "_view_module": "@jupyter-widgets/controls",
            "_view_module_version": "1.5.0",
            "_view_name": "HTMLView",
            "description": "",
            "description_tooltip": null,
            "layout": "IPY_MODEL_2f958a37b8624903a947127f377527c4",
            "placeholder": "​",
            "style": "IPY_MODEL_7dcd730311d2474ea36d5af15ff30b8e",
            "value": "100%"
          }
        },
        "1f604c3b4ee34ba3ab13670b09723420": {
          "model_module": "@jupyter-widgets/controls",
          "model_name": "FloatProgressModel",
          "model_module_version": "1.5.0",
          "state": {
            "_dom_classes": [],
            "_model_module": "@jupyter-widgets/controls",
            "_model_module_version": "1.5.0",
            "_model_name": "FloatProgressModel",
            "_view_count": null,
            "_view_module": "@jupyter-widgets/controls",
            "_view_module_version": "1.5.0",
            "_view_name": "ProgressView",
            "bar_style": "success",
            "description": "",
            "description_tooltip": null,
            "layout": "IPY_MODEL_7391f285f85a4ed48b8580fe63fe9149",
            "max": 545,
            "min": 0,
            "orientation": "horizontal",
            "style": "IPY_MODEL_d063cd354ea54a5f81532f2e6e077cb5",
            "value": 545
          }
        },
        "ecfa79f7dea142fd97d141555eefb95b": {
          "model_module": "@jupyter-widgets/controls",
          "model_name": "HTMLModel",
          "model_module_version": "1.5.0",
          "state": {
            "_dom_classes": [],
            "_model_module": "@jupyter-widgets/controls",
            "_model_module_version": "1.5.0",
            "_model_name": "HTMLModel",
            "_view_count": null,
            "_view_module": "@jupyter-widgets/controls",
            "_view_module_version": "1.5.0",
            "_view_name": "HTMLView",
            "description": "",
            "description_tooltip": null,
            "layout": "IPY_MODEL_797fd261f2604f78b025d73d09f31879",
            "placeholder": "​",
            "style": "IPY_MODEL_69b5fabe8660439b8ea12636cf0a9c06",
            "value": " 545/545 [02:56&lt;00:00,  4.41it/s]"
          }
        },
        "e7712a07424b4466844a40897027eff0": {
          "model_module": "@jupyter-widgets/base",
          "model_name": "LayoutModel",
          "model_module_version": "1.2.0",
          "state": {
            "_model_module": "@jupyter-widgets/base",
            "_model_module_version": "1.2.0",
            "_model_name": "LayoutModel",
            "_view_count": null,
            "_view_module": "@jupyter-widgets/base",
            "_view_module_version": "1.2.0",
            "_view_name": "LayoutView",
            "align_content": null,
            "align_items": null,
            "align_self": null,
            "border": null,
            "bottom": null,
            "display": null,
            "flex": null,
            "flex_flow": null,
            "grid_area": null,
            "grid_auto_columns": null,
            "grid_auto_flow": null,
            "grid_auto_rows": null,
            "grid_column": null,
            "grid_gap": null,
            "grid_row": null,
            "grid_template_areas": null,
            "grid_template_columns": null,
            "grid_template_rows": null,
            "height": null,
            "justify_content": null,
            "justify_items": null,
            "left": null,
            "margin": null,
            "max_height": null,
            "max_width": null,
            "min_height": null,
            "min_width": null,
            "object_fit": null,
            "object_position": null,
            "order": null,
            "overflow": null,
            "overflow_x": null,
            "overflow_y": null,
            "padding": null,
            "right": null,
            "top": null,
            "visibility": null,
            "width": null
          }
        },
        "2f958a37b8624903a947127f377527c4": {
          "model_module": "@jupyter-widgets/base",
          "model_name": "LayoutModel",
          "model_module_version": "1.2.0",
          "state": {
            "_model_module": "@jupyter-widgets/base",
            "_model_module_version": "1.2.0",
            "_model_name": "LayoutModel",
            "_view_count": null,
            "_view_module": "@jupyter-widgets/base",
            "_view_module_version": "1.2.0",
            "_view_name": "LayoutView",
            "align_content": null,
            "align_items": null,
            "align_self": null,
            "border": null,
            "bottom": null,
            "display": null,
            "flex": null,
            "flex_flow": null,
            "grid_area": null,
            "grid_auto_columns": null,
            "grid_auto_flow": null,
            "grid_auto_rows": null,
            "grid_column": null,
            "grid_gap": null,
            "grid_row": null,
            "grid_template_areas": null,
            "grid_template_columns": null,
            "grid_template_rows": null,
            "height": null,
            "justify_content": null,
            "justify_items": null,
            "left": null,
            "margin": null,
            "max_height": null,
            "max_width": null,
            "min_height": null,
            "min_width": null,
            "object_fit": null,
            "object_position": null,
            "order": null,
            "overflow": null,
            "overflow_x": null,
            "overflow_y": null,
            "padding": null,
            "right": null,
            "top": null,
            "visibility": null,
            "width": null
          }
        },
        "7dcd730311d2474ea36d5af15ff30b8e": {
          "model_module": "@jupyter-widgets/controls",
          "model_name": "DescriptionStyleModel",
          "model_module_version": "1.5.0",
          "state": {
            "_model_module": "@jupyter-widgets/controls",
            "_model_module_version": "1.5.0",
            "_model_name": "DescriptionStyleModel",
            "_view_count": null,
            "_view_module": "@jupyter-widgets/base",
            "_view_module_version": "1.2.0",
            "_view_name": "StyleView",
            "description_width": ""
          }
        },
        "7391f285f85a4ed48b8580fe63fe9149": {
          "model_module": "@jupyter-widgets/base",
          "model_name": "LayoutModel",
          "model_module_version": "1.2.0",
          "state": {
            "_model_module": "@jupyter-widgets/base",
            "_model_module_version": "1.2.0",
            "_model_name": "LayoutModel",
            "_view_count": null,
            "_view_module": "@jupyter-widgets/base",
            "_view_module_version": "1.2.0",
            "_view_name": "LayoutView",
            "align_content": null,
            "align_items": null,
            "align_self": null,
            "border": null,
            "bottom": null,
            "display": null,
            "flex": null,
            "flex_flow": null,
            "grid_area": null,
            "grid_auto_columns": null,
            "grid_auto_flow": null,
            "grid_auto_rows": null,
            "grid_column": null,
            "grid_gap": null,
            "grid_row": null,
            "grid_template_areas": null,
            "grid_template_columns": null,
            "grid_template_rows": null,
            "height": null,
            "justify_content": null,
            "justify_items": null,
            "left": null,
            "margin": null,
            "max_height": null,
            "max_width": null,
            "min_height": null,
            "min_width": null,
            "object_fit": null,
            "object_position": null,
            "order": null,
            "overflow": null,
            "overflow_x": null,
            "overflow_y": null,
            "padding": null,
            "right": null,
            "top": null,
            "visibility": null,
            "width": null
          }
        },
        "d063cd354ea54a5f81532f2e6e077cb5": {
          "model_module": "@jupyter-widgets/controls",
          "model_name": "ProgressStyleModel",
          "model_module_version": "1.5.0",
          "state": {
            "_model_module": "@jupyter-widgets/controls",
            "_model_module_version": "1.5.0",
            "_model_name": "ProgressStyleModel",
            "_view_count": null,
            "_view_module": "@jupyter-widgets/base",
            "_view_module_version": "1.2.0",
            "_view_name": "StyleView",
            "bar_color": null,
            "description_width": ""
          }
        },
        "797fd261f2604f78b025d73d09f31879": {
          "model_module": "@jupyter-widgets/base",
          "model_name": "LayoutModel",
          "model_module_version": "1.2.0",
          "state": {
            "_model_module": "@jupyter-widgets/base",
            "_model_module_version": "1.2.0",
            "_model_name": "LayoutModel",
            "_view_count": null,
            "_view_module": "@jupyter-widgets/base",
            "_view_module_version": "1.2.0",
            "_view_name": "LayoutView",
            "align_content": null,
            "align_items": null,
            "align_self": null,
            "border": null,
            "bottom": null,
            "display": null,
            "flex": null,
            "flex_flow": null,
            "grid_area": null,
            "grid_auto_columns": null,
            "grid_auto_flow": null,
            "grid_auto_rows": null,
            "grid_column": null,
            "grid_gap": null,
            "grid_row": null,
            "grid_template_areas": null,
            "grid_template_columns": null,
            "grid_template_rows": null,
            "height": null,
            "justify_content": null,
            "justify_items": null,
            "left": null,
            "margin": null,
            "max_height": null,
            "max_width": null,
            "min_height": null,
            "min_width": null,
            "object_fit": null,
            "object_position": null,
            "order": null,
            "overflow": null,
            "overflow_x": null,
            "overflow_y": null,
            "padding": null,
            "right": null,
            "top": null,
            "visibility": null,
            "width": null
          }
        },
        "69b5fabe8660439b8ea12636cf0a9c06": {
          "model_module": "@jupyter-widgets/controls",
          "model_name": "DescriptionStyleModel",
          "model_module_version": "1.5.0",
          "state": {
            "_model_module": "@jupyter-widgets/controls",
            "_model_module_version": "1.5.0",
            "_model_name": "DescriptionStyleModel",
            "_view_count": null,
            "_view_module": "@jupyter-widgets/base",
            "_view_module_version": "1.2.0",
            "_view_name": "StyleView",
            "description_width": ""
          }
        }
      }
    }
  },
  "cells": [
    {
      "cell_type": "markdown",
      "metadata": {
        "id": "view-in-github",
        "colab_type": "text"
      },
      "source": [
        "<a href=\"https://colab.research.google.com/github/youchulJ/YOLOv8-custom/blob/main/yolov8_custom_YC_11_09_23.ipynb\" target=\"_parent\"><img src=\"https://colab.research.google.com/assets/colab-badge.svg\" alt=\"Open In Colab\"/></a>"
      ]
    },
    {
      "cell_type": "markdown",
      "source": [
        "##Before start"
      ],
      "metadata": {
        "id": "5gtXul_kUVCd"
      }
    },
    {
      "cell_type": "code",
      "execution_count": null,
      "metadata": {
        "colab": {
          "base_uri": "https://localhost:8080/"
        },
        "id": "5X9ouR3QIC71",
        "outputId": "d7083052-505f-41f5-931b-a8b4b66e7f41"
      },
      "outputs": [
        {
          "output_type": "stream",
          "name": "stdout",
          "text": [
            "Mon Sep 11 11:11:49 2023       \n",
            "+-----------------------------------------------------------------------------+\n",
            "| NVIDIA-SMI 525.105.17   Driver Version: 525.105.17   CUDA Version: 12.0     |\n",
            "|-------------------------------+----------------------+----------------------+\n",
            "| GPU  Name        Persistence-M| Bus-Id        Disp.A | Volatile Uncorr. ECC |\n",
            "| Fan  Temp  Perf  Pwr:Usage/Cap|         Memory-Usage | GPU-Util  Compute M. |\n",
            "|                               |                      |               MIG M. |\n",
            "|===============================+======================+======================|\n",
            "|   0  Tesla T4            Off  | 00000000:00:04.0 Off |                    0 |\n",
            "| N/A   42C    P8    10W /  70W |      0MiB / 15360MiB |      0%      Default |\n",
            "|                               |                      |                  N/A |\n",
            "+-------------------------------+----------------------+----------------------+\n",
            "                                                                               \n",
            "+-----------------------------------------------------------------------------+\n",
            "| Processes:                                                                  |\n",
            "|  GPU   GI   CI        PID   Type   Process name                  GPU Memory |\n",
            "|        ID   ID                                                   Usage      |\n",
            "|=============================================================================|\n",
            "|  No running processes found                                                 |\n",
            "+-----------------------------------------------------------------------------+\n"
          ]
        }
      ],
      "source": [
        "!nvidia-smi"
      ]
    },
    {
      "cell_type": "code",
      "source": [
        "import os\n",
        "HOME = os.getcwd()\n",
        "print(HOME)"
      ],
      "metadata": {
        "colab": {
          "base_uri": "https://localhost:8080/"
        },
        "id": "VZlMKUD7ILg5",
        "outputId": "a9584a26-a101-4385-d00c-22b289e7cba6"
      },
      "execution_count": null,
      "outputs": [
        {
          "output_type": "stream",
          "name": "stdout",
          "text": [
            "/content\n"
          ]
        }
      ]
    },
    {
      "cell_type": "markdown",
      "source": [
        "##Install YOLOv8"
      ],
      "metadata": {
        "id": "0llPrO2nUduf"
      }
    },
    {
      "cell_type": "code",
      "source": [
        "# Pip install method (recommended)\n",
        "\n",
        "!pip install ultralytics==8.0.10\n",
        "\n",
        "from IPython import display\n",
        "display.clear_output()\n",
        "\n",
        "import ultralytics\n",
        "ultralytics.checks()"
      ],
      "metadata": {
        "colab": {
          "base_uri": "https://localhost:8080/"
        },
        "id": "AO5RIy82IZlO",
        "outputId": "dabbce1a-123b-4221-f39e-4b9604c7e0ae"
      },
      "execution_count": null,
      "outputs": [
        {
          "output_type": "stream",
          "name": "stderr",
          "text": [
            "Ultralytics YOLOv8.0.10 🚀 Python-3.10.12 torch-2.0.1+cu118 CUDA:0 (Tesla T4, 15102MiB)\n",
            "Setup complete ✅ (2 CPUs, 12.7 GB RAM, 26.3/78.2 GB disk)\n"
          ]
        }
      ]
    },
    {
      "cell_type": "markdown",
      "source": [
        "##Install ByteTrack"
      ],
      "metadata": {
        "id": "VMnF1y60Umzi"
      }
    },
    {
      "cell_type": "code",
      "source": [
        "%cd {HOME}\n",
        "!git clone https://github.com/ifzhang/ByteTrack.git\n",
        "%cd {HOME}/ByteTrack\n",
        "\n",
        "# workaround related to https://github.com/roboflow/notebooks/issues/80\n",
        "!sed -i 's/onnx==1.8.1/onnx==1.9.0/g' requirements.txt\n",
        "\n",
        "!pip3 install -q -r requirements.txt\n",
        "!python3 setup.py -q develop\n",
        "!pip install -q cython_bbox\n",
        "!pip install -q onemetric\n",
        "# workaround related to https://github.com/roboflow/notebooks/issues/112 and https://github.com/roboflow/notebooks/issues/106\n",
        "!pip install -q loguru lap thop\n",
        "\n",
        "from IPython import display\n",
        "display.clear_output()\n",
        "\n",
        "\n",
        "import sys\n",
        "sys.path.append(f\"{HOME}/ByteTrack\")\n",
        "\n",
        "\n",
        "import yolox\n",
        "print(\"yolox.__version__:\", yolox.__version__)"
      ],
      "metadata": {
        "colab": {
          "base_uri": "https://localhost:8080/"
        },
        "id": "VlMORyA-IfQf",
        "outputId": "8ffd3679-9b8d-42b5-ec1c-688e84252a6d"
      },
      "execution_count": null,
      "outputs": [
        {
          "output_type": "stream",
          "name": "stdout",
          "text": [
            "yolox.__version__: 0.1.0\n"
          ]
        }
      ]
    },
    {
      "cell_type": "code",
      "source": [
        "from yolox.tracker.byte_tracker import BYTETracker, STrack\n",
        "from onemetric.cv.utils.iou import box_iou_batch\n",
        "from dataclasses import dataclass\n",
        "\n",
        "\n",
        "@dataclass(frozen=True)\n",
        "class BYTETrackerArgs:\n",
        "    track_thresh: float = 0.25\n",
        "    track_buffer: int = 30\n",
        "    match_thresh: float = 0.8\n",
        "    aspect_ratio_thresh: float = 3.0\n",
        "    min_box_area: float = 1.0\n",
        "    mot20: bool = False"
      ],
      "metadata": {
        "id": "dMLe6-VsJiF1"
      },
      "execution_count": null,
      "outputs": []
    },
    {
      "cell_type": "markdown",
      "source": [
        "##Install supervision"
      ],
      "metadata": {
        "id": "NK-rEqwbUvbA"
      }
    },
    {
      "cell_type": "code",
      "source": [
        "!pip install supervision==0.1.0\n",
        "\n",
        "\n",
        "from IPython import display\n",
        "display.clear_output()\n",
        "\n",
        "\n",
        "import supervision\n",
        "print(\"supervision.__version__:\", supervision.__version__)"
      ],
      "metadata": {
        "colab": {
          "base_uri": "https://localhost:8080/"
        },
        "id": "bAHH9nwtJkMa",
        "outputId": "60af5e65-4ee2-429a-e4b7-21dc84fa4f53"
      },
      "execution_count": null,
      "outputs": [
        {
          "output_type": "stream",
          "name": "stdout",
          "text": [
            "supervision.__version__: 0.1.0\n"
          ]
        }
      ]
    },
    {
      "cell_type": "code",
      "source": [
        "from supervision.draw.color import ColorPalette\n",
        "from supervision.geometry.dataclasses import Point\n",
        "from supervision.video.dataclasses import VideoInfo\n",
        "from supervision.video.source import get_video_frames_generator\n",
        "from supervision.video.sink import VideoSink\n",
        "from supervision.notebook.utils import show_frame_in_notebook\n",
        "from supervision.tools.detections import Detections, BoxAnnotator\n",
        "from supervision.tools.line_counter import LineCounter, LineCounterAnnotator"
      ],
      "metadata": {
        "id": "7b_sy73rJnOi"
      },
      "execution_count": null,
      "outputs": []
    },
    {
      "cell_type": "code",
      "source": [
        "from typing import List\n",
        "import numpy as np\n",
        "\n",
        "\n",
        "# converts Detections into format that can be consumed by match_detections_with_tracks function\n",
        "def detections2boxes(detections: Detections) -> np.ndarray:\n",
        "    return np.hstack((\n",
        "        detections.xyxy,\n",
        "        detections.confidence[:, np.newaxis]\n",
        "    ))\n",
        "\n",
        "\n",
        "# converts List[STrack] into format that can be consumed by match_detections_with_tracks function\n",
        "def tracks2boxes(tracks: List[STrack]) -> np.ndarray:\n",
        "    return np.array([\n",
        "        track.tlbr\n",
        "        for track\n",
        "        in tracks\n",
        "    ], dtype=float)\n",
        "\n",
        "\n",
        "# matches our bounding boxes with predictions\n",
        "def match_detections_with_tracks(\n",
        "    detections: Detections,\n",
        "    tracks: List[STrack]\n",
        ") -> Detections:\n",
        "    if not np.any(detections.xyxy) or len(tracks) == 0:\n",
        "        return np.empty((0,))\n",
        "\n",
        "    tracks_boxes = tracks2boxes(tracks=tracks)\n",
        "    iou = box_iou_batch(tracks_boxes, detections.xyxy)\n",
        "    track2detection = np.argmax(iou, axis=1)\n",
        "\n",
        "    tracker_ids = [None] * len(detections)\n",
        "\n",
        "    for tracker_index, detection_index in enumerate(track2detection):\n",
        "        if iou[tracker_index, detection_index] != 0:\n",
        "            tracker_ids[detection_index] = tracks[tracker_index].track_id\n",
        "\n",
        "    return tracker_ids"
      ],
      "metadata": {
        "id": "9kNVmeXMJnTZ"
      },
      "execution_count": null,
      "outputs": []
    },
    {
      "cell_type": "markdown",
      "source": [
        "##load pre-trained YOLOv8 MODEL"
      ],
      "metadata": {
        "id": "0ldhIdSnVFbx"
      }
    },
    {
      "cell_type": "code",
      "source": [
        "# settings\n",
        "MODEL = \"yolov8x.pt\""
      ],
      "metadata": {
        "id": "gOq0GkiqJvFr"
      },
      "execution_count": null,
      "outputs": []
    },
    {
      "cell_type": "code",
      "source": [
        "from ultralytics import YOLO\n",
        "\n",
        "model = YOLO(MODEL)\n",
        "model.fuse()"
      ],
      "metadata": {
        "colab": {
          "base_uri": "https://localhost:8080/"
        },
        "id": "wKQSEzyoJw0-",
        "outputId": "d01f7c87-69f1-4464-f9fe-2798c0a4e21c"
      },
      "execution_count": null,
      "outputs": [
        {
          "output_type": "stream",
          "name": "stderr",
          "text": [
            "Downloading https://github.com/ultralytics/assets/releases/download/v0.0.0/yolov8x.pt to yolov8x.pt...\n",
            "100%|██████████| 131M/131M [00:01<00:00, 69.2MB/s]\n",
            "\n",
            "Fusing... \n",
            "YOLOv8x summary: 268 layers, 68200608 parameters, 0 gradients, 257.8 GFLOPs\n"
          ]
        }
      ]
    },
    {
      "cell_type": "markdown",
      "source": [
        "##DOWNLOAD VIDEO - google drive\n"
      ],
      "metadata": {
        "id": "KOkrKxa-J8Bf"
      }
    },
    {
      "cell_type": "code",
      "source": [
        "from google.colab import drive\n",
        "drive.mount('/content/drive')"
      ],
      "metadata": {
        "colab": {
          "base_uri": "https://localhost:8080/"
        },
        "id": "k0z0HQIHJ-QW",
        "outputId": "8c96c913-4037-4b7d-c17a-68cc97722e50"
      },
      "execution_count": null,
      "outputs": [
        {
          "output_type": "stream",
          "name": "stdout",
          "text": [
            "Mounted at /content/drive\n"
          ]
        }
      ]
    },
    {
      "cell_type": "code",
      "source": [
        "SOURCE_VIDEO_PATH = f\"/content/drive/MyDrive/yolov8/DJI_0799.MP4\""
      ],
      "metadata": {
        "id": "Zp9oIOmXKNXk"
      },
      "execution_count": null,
      "outputs": []
    },
    {
      "cell_type": "markdown",
      "source": [
        "##Predict the video - .avi"
      ],
      "metadata": {
        "id": "WA8xgOfkVuR5"
      }
    },
    {
      "cell_type": "code",
      "source": [
        "#%cd {HOME}\n",
        "#!yolo task=detect mode=predict model=yolov8x.pt conf=0.25 source={SOURCE_VIDEO_PATH}"
      ],
      "metadata": {
        "colab": {
          "base_uri": "https://localhost:8080/"
        },
        "id": "M8gl-TXvVUKX",
        "outputId": "20c985fd-5ed6-4d16-ecb1-a7d4670a3cdd"
      },
      "execution_count": null,
      "outputs": [
        {
          "output_type": "stream",
          "name": "stdout",
          "text": [
            "/content\n",
            "Downloading https://github.com/ultralytics/assets/releases/download/v0.0.0/yolov8x.pt to 'yolov8x.pt'...\n",
            "100% 131M/131M [00:00<00:00, 201MB/s]\n",
            "Ultralytics YOLOv8.0.175 🚀 Python-3.10.12 torch-2.0.1+cu118 CUDA:0 (Tesla T4, 15102MiB)\n",
            "YOLOv8x summary (fused): 268 layers, 68200608 parameters, 0 gradients, 257.8 GFLOPs\n",
            "\n",
            "video 1/1 (1/545) /content/drive/MyDrive/yolov8/DJI_0799.MP4: 384x640 4 persons, 2 cars, 67.7ms\n",
            "video 1/1 (2/545) /content/drive/MyDrive/yolov8/DJI_0799.MP4: 384x640 4 persons, 2 cars, 63.1ms\n",
            "video 1/1 (3/545) /content/drive/MyDrive/yolov8/DJI_0799.MP4: 384x640 4 persons, 2 cars, 63.1ms\n",
            "video 1/1 (4/545) /content/drive/MyDrive/yolov8/DJI_0799.MP4: 384x640 4 persons, 1 car, 1 sports ball, 63.1ms\n",
            "video 1/1 (5/545) /content/drive/MyDrive/yolov8/DJI_0799.MP4: 384x640 4 persons, 1 car, 1 sports ball, 65.6ms\n",
            "video 1/1 (6/545) /content/drive/MyDrive/yolov8/DJI_0799.MP4: 384x640 4 persons, 1 car, 63.1ms\n",
            "video 1/1 (7/545) /content/drive/MyDrive/yolov8/DJI_0799.MP4: 384x640 4 persons, 2 cars, 70.3ms\n",
            "video 1/1 (8/545) /content/drive/MyDrive/yolov8/DJI_0799.MP4: 384x640 5 persons, 2 cars, 1 bench, 1 skateboard, 63.1ms\n",
            "video 1/1 (9/545) /content/drive/MyDrive/yolov8/DJI_0799.MP4: 384x640 4 persons, 2 cars, 66.3ms\n",
            "video 1/1 (10/545) /content/drive/MyDrive/yolov8/DJI_0799.MP4: 384x640 4 persons, 1 car, 63.1ms\n",
            "video 1/1 (11/545) /content/drive/MyDrive/yolov8/DJI_0799.MP4: 384x640 5 persons, 1 car, 1 bench, 1 sports ball, 63.5ms\n",
            "video 1/1 (12/545) /content/drive/MyDrive/yolov8/DJI_0799.MP4: 384x640 5 persons, 1 car, 1 sports ball, 72.9ms\n",
            "video 1/1 (13/545) /content/drive/MyDrive/yolov8/DJI_0799.MP4: 384x640 4 persons, 1 car, 1 bench, 64.4ms\n",
            "video 1/1 (14/545) /content/drive/MyDrive/yolov8/DJI_0799.MP4: 384x640 5 persons, 1 car, 1 bench, 63.1ms\n",
            "video 1/1 (15/545) /content/drive/MyDrive/yolov8/DJI_0799.MP4: 384x640 4 persons, 1 car, 63.1ms\n",
            "video 1/1 (16/545) /content/drive/MyDrive/yolov8/DJI_0799.MP4: 384x640 4 persons, 1 car, 63.1ms\n",
            "video 1/1 (17/545) /content/drive/MyDrive/yolov8/DJI_0799.MP4: 384x640 4 persons, 2 cars, 63.1ms\n",
            "video 1/1 (18/545) /content/drive/MyDrive/yolov8/DJI_0799.MP4: 384x640 5 persons, 2 cars, 63.1ms\n",
            "video 1/1 (19/545) /content/drive/MyDrive/yolov8/DJI_0799.MP4: 384x640 5 persons, 1 car, 63.1ms\n",
            "video 1/1 (20/545) /content/drive/MyDrive/yolov8/DJI_0799.MP4: 384x640 4 persons, 1 car, 63.1ms\n",
            "video 1/1 (21/545) /content/drive/MyDrive/yolov8/DJI_0799.MP4: 384x640 5 persons, 1 car, 1 sports ball, 63.2ms\n",
            "video 1/1 (22/545) /content/drive/MyDrive/yolov8/DJI_0799.MP4: 384x640 4 persons, 1 car, 63.1ms\n",
            "video 1/1 (23/545) /content/drive/MyDrive/yolov8/DJI_0799.MP4: 384x640 4 persons, 1 car, 63.1ms\n",
            "video 1/1 (24/545) /content/drive/MyDrive/yolov8/DJI_0799.MP4: 384x640 4 persons, 1 car, 63.2ms\n",
            "video 1/1 (25/545) /content/drive/MyDrive/yolov8/DJI_0799.MP4: 384x640 4 persons, 1 car, 63.2ms\n",
            "video 1/1 (26/545) /content/drive/MyDrive/yolov8/DJI_0799.MP4: 384x640 4 persons, 1 car, 1 sports ball, 63.2ms\n",
            "video 1/1 (27/545) /content/drive/MyDrive/yolov8/DJI_0799.MP4: 384x640 3 persons, 1 car, 1 fire hydrant, 63.1ms\n",
            "video 1/1 (28/545) /content/drive/MyDrive/yolov8/DJI_0799.MP4: 384x640 3 persons, 1 car, 1 fire hydrant, 63.1ms\n",
            "video 1/1 (29/545) /content/drive/MyDrive/yolov8/DJI_0799.MP4: 384x640 3 persons, 1 car, 1 fire hydrant, 63.1ms\n",
            "video 1/1 (30/545) /content/drive/MyDrive/yolov8/DJI_0799.MP4: 384x640 4 persons, 1 car, 63.2ms\n",
            "video 1/1 (31/545) /content/drive/MyDrive/yolov8/DJI_0799.MP4: 384x640 4 persons, 1 car, 63.1ms\n",
            "video 1/1 (32/545) /content/drive/MyDrive/yolov8/DJI_0799.MP4: 384x640 4 persons, 1 car, 63.1ms\n",
            "video 1/1 (33/545) /content/drive/MyDrive/yolov8/DJI_0799.MP4: 384x640 4 persons, 1 car, 63.1ms\n",
            "video 1/1 (34/545) /content/drive/MyDrive/yolov8/DJI_0799.MP4: 384x640 4 persons, 1 car, 63.1ms\n",
            "video 1/1 (35/545) /content/drive/MyDrive/yolov8/DJI_0799.MP4: 384x640 4 persons, 1 car, 1 fire hydrant, 1 skateboard, 63.1ms\n",
            "video 1/1 (36/545) /content/drive/MyDrive/yolov8/DJI_0799.MP4: 384x640 4 persons, 2 cars, 1 skateboard, 63.1ms\n",
            "video 1/1 (37/545) /content/drive/MyDrive/yolov8/DJI_0799.MP4: 384x640 4 persons, 2 cars, 63.1ms\n",
            "video 1/1 (38/545) /content/drive/MyDrive/yolov8/DJI_0799.MP4: 384x640 4 persons, 1 car, 63.2ms\n",
            "video 1/1 (39/545) /content/drive/MyDrive/yolov8/DJI_0799.MP4: 384x640 4 persons, 1 car, 63.1ms\n",
            "video 1/1 (40/545) /content/drive/MyDrive/yolov8/DJI_0799.MP4: 384x640 4 persons, 1 car, 1 sports ball, 63.1ms\n",
            "video 1/1 (41/545) /content/drive/MyDrive/yolov8/DJI_0799.MP4: 384x640 4 persons, 2 cars, 63.1ms\n",
            "video 1/1 (42/545) /content/drive/MyDrive/yolov8/DJI_0799.MP4: 384x640 4 persons, 2 cars, 63.1ms\n",
            "video 1/1 (43/545) /content/drive/MyDrive/yolov8/DJI_0799.MP4: 384x640 5 persons, 1 car, 63.1ms\n",
            "video 1/1 (44/545) /content/drive/MyDrive/yolov8/DJI_0799.MP4: 384x640 4 persons, 1 car, 63.2ms\n",
            "video 1/1 (45/545) /content/drive/MyDrive/yolov8/DJI_0799.MP4: 384x640 4 persons, 1 car, 63.1ms\n",
            "video 1/1 (46/545) /content/drive/MyDrive/yolov8/DJI_0799.MP4: 384x640 4 persons, 1 car, 63.1ms\n",
            "video 1/1 (47/545) /content/drive/MyDrive/yolov8/DJI_0799.MP4: 384x640 4 persons, 1 car, 63.1ms\n",
            "video 1/1 (48/545) /content/drive/MyDrive/yolov8/DJI_0799.MP4: 384x640 4 persons, 1 car, 63.1ms\n",
            "video 1/1 (49/545) /content/drive/MyDrive/yolov8/DJI_0799.MP4: 384x640 4 persons, 1 car, 63.2ms\n",
            "video 1/1 (50/545) /content/drive/MyDrive/yolov8/DJI_0799.MP4: 384x640 4 persons, 1 car, 63.2ms\n",
            "video 1/1 (51/545) /content/drive/MyDrive/yolov8/DJI_0799.MP4: 384x640 4 persons, 1 car, 63.1ms\n",
            "video 1/1 (52/545) /content/drive/MyDrive/yolov8/DJI_0799.MP4: 384x640 4 persons, 2 cars, 63.1ms\n",
            "video 1/1 (53/545) /content/drive/MyDrive/yolov8/DJI_0799.MP4: 384x640 4 persons, 1 car, 67.5ms\n",
            "video 1/1 (54/545) /content/drive/MyDrive/yolov8/DJI_0799.MP4: 384x640 4 persons, 1 car, 1 frisbee, 63.1ms\n",
            "video 1/1 (55/545) /content/drive/MyDrive/yolov8/DJI_0799.MP4: 384x640 4 persons, 1 car, 63.1ms\n",
            "video 1/1 (56/545) /content/drive/MyDrive/yolov8/DJI_0799.MP4: 384x640 4 persons, 2 cars, 64.8ms\n",
            "video 1/1 (57/545) /content/drive/MyDrive/yolov8/DJI_0799.MP4: 384x640 4 persons, 1 car, 73.5ms\n",
            "video 1/1 (58/545) /content/drive/MyDrive/yolov8/DJI_0799.MP4: 384x640 4 persons, 2 cars, 68.4ms\n",
            "video 1/1 (59/545) /content/drive/MyDrive/yolov8/DJI_0799.MP4: 384x640 5 persons, 1 car, 67.9ms\n",
            "video 1/1 (60/545) /content/drive/MyDrive/yolov8/DJI_0799.MP4: 384x640 4 persons, 2 cars, 63.1ms\n",
            "video 1/1 (61/545) /content/drive/MyDrive/yolov8/DJI_0799.MP4: 384x640 4 persons, 2 cars, 63.1ms\n",
            "video 1/1 (62/545) /content/drive/MyDrive/yolov8/DJI_0799.MP4: 384x640 5 persons, 2 cars, 1 fire hydrant, 63.2ms\n",
            "video 1/1 (63/545) /content/drive/MyDrive/yolov8/DJI_0799.MP4: 384x640 4 persons, 1 car, 1 fire hydrant, 1 skateboard, 63.1ms\n",
            "video 1/1 (64/545) /content/drive/MyDrive/yolov8/DJI_0799.MP4: 384x640 4 persons, 1 car, 1 fire hydrant, 63.1ms\n",
            "video 1/1 (65/545) /content/drive/MyDrive/yolov8/DJI_0799.MP4: 384x640 5 persons, 2 cars, 1 fire hydrant, 63.1ms\n",
            "video 1/1 (66/545) /content/drive/MyDrive/yolov8/DJI_0799.MP4: 384x640 5 persons, 2 cars, 63.2ms\n",
            "video 1/1 (67/545) /content/drive/MyDrive/yolov8/DJI_0799.MP4: 384x640 5 persons, 2 cars, 63.2ms\n",
            "video 1/1 (68/545) /content/drive/MyDrive/yolov8/DJI_0799.MP4: 384x640 5 persons, 1 car, 63.2ms\n",
            "video 1/1 (69/545) /content/drive/MyDrive/yolov8/DJI_0799.MP4: 384x640 5 persons, 2 cars, 63.1ms\n",
            "video 1/1 (70/545) /content/drive/MyDrive/yolov8/DJI_0799.MP4: 384x640 5 persons, 1 car, 63.1ms\n",
            "video 1/1 (71/545) /content/drive/MyDrive/yolov8/DJI_0799.MP4: 384x640 5 persons, 2 cars, 63.1ms\n",
            "video 1/1 (72/545) /content/drive/MyDrive/yolov8/DJI_0799.MP4: 384x640 5 persons, 2 cars, 63.1ms\n",
            "video 1/1 (73/545) /content/drive/MyDrive/yolov8/DJI_0799.MP4: 384x640 3 persons, 2 cars, 63.1ms\n",
            "video 1/1 (74/545) /content/drive/MyDrive/yolov8/DJI_0799.MP4: 384x640 4 persons, 1 car, 1 sports ball, 63.2ms\n",
            "video 1/1 (75/545) /content/drive/MyDrive/yolov8/DJI_0799.MP4: 384x640 2 persons, 1 car, 1 fire hydrant, 1 sports ball, 63.1ms\n",
            "video 1/1 (76/545) /content/drive/MyDrive/yolov8/DJI_0799.MP4: 384x640 2 persons, 2 cars, 1 fire hydrant, 63.1ms\n",
            "video 1/1 (77/545) /content/drive/MyDrive/yolov8/DJI_0799.MP4: 384x640 2 persons, 1 car, 1 fire hydrant, 1 sports ball, 63.1ms\n",
            "video 1/1 (78/545) /content/drive/MyDrive/yolov8/DJI_0799.MP4: 384x640 2 persons, 2 cars, 1 fire hydrant, 63.1ms\n",
            "video 1/1 (79/545) /content/drive/MyDrive/yolov8/DJI_0799.MP4: 384x640 2 persons, 2 cars, 1 fire hydrant, 63.1ms\n",
            "video 1/1 (80/545) /content/drive/MyDrive/yolov8/DJI_0799.MP4: 384x640 2 persons, 1 car, 1 fire hydrant, 63.1ms\n",
            "video 1/1 (81/545) /content/drive/MyDrive/yolov8/DJI_0799.MP4: 384x640 2 persons, 1 car, 1 fire hydrant, 63.2ms\n",
            "video 1/1 (82/545) /content/drive/MyDrive/yolov8/DJI_0799.MP4: 384x640 5 persons, 1 car, 63.1ms\n",
            "video 1/1 (83/545) /content/drive/MyDrive/yolov8/DJI_0799.MP4: 384x640 4 persons, 1 car, 1 fire hydrant, 63.2ms\n",
            "video 1/1 (84/545) /content/drive/MyDrive/yolov8/DJI_0799.MP4: 384x640 3 persons, 1 car, 63.1ms\n",
            "video 1/1 (85/545) /content/drive/MyDrive/yolov8/DJI_0799.MP4: 384x640 5 persons, 1 car, 63.1ms\n",
            "video 1/1 (86/545) /content/drive/MyDrive/yolov8/DJI_0799.MP4: 384x640 2 persons, 1 car, 1 fire hydrant, 63.1ms\n",
            "video 1/1 (87/545) /content/drive/MyDrive/yolov8/DJI_0799.MP4: 384x640 3 persons, 1 car, 1 fire hydrant, 63.1ms\n",
            "video 1/1 (88/545) /content/drive/MyDrive/yolov8/DJI_0799.MP4: 384x640 3 persons, 1 car, 1 fire hydrant, 63.1ms\n",
            "video 1/1 (89/545) /content/drive/MyDrive/yolov8/DJI_0799.MP4: 384x640 2 persons, 1 car, 1 fire hydrant, 63.1ms\n",
            "video 1/1 (90/545) /content/drive/MyDrive/yolov8/DJI_0799.MP4: 384x640 2 persons, 2 cars, 1 fire hydrant, 63.1ms\n",
            "video 1/1 (91/545) /content/drive/MyDrive/yolov8/DJI_0799.MP4: 384x640 3 persons, 1 car, 1 fire hydrant, 1 sports ball, 63.1ms\n",
            "video 1/1 (92/545) /content/drive/MyDrive/yolov8/DJI_0799.MP4: 384x640 2 persons, 1 car, 1 fire hydrant, 63.1ms\n",
            "video 1/1 (93/545) /content/drive/MyDrive/yolov8/DJI_0799.MP4: 384x640 2 persons, 1 car, 1 fire hydrant, 63.1ms\n",
            "video 1/1 (94/545) /content/drive/MyDrive/yolov8/DJI_0799.MP4: 384x640 3 persons, 2 cars, 1 fire hydrant, 63.1ms\n",
            "video 1/1 (95/545) /content/drive/MyDrive/yolov8/DJI_0799.MP4: 384x640 4 persons, 2 cars, 1 fire hydrant, 63.1ms\n",
            "video 1/1 (96/545) /content/drive/MyDrive/yolov8/DJI_0799.MP4: 384x640 4 persons, 1 car, 1 sports ball, 63.1ms\n",
            "video 1/1 (97/545) /content/drive/MyDrive/yolov8/DJI_0799.MP4: 384x640 3 persons, 1 car, 1 fire hydrant, 1 sports ball, 63.1ms\n",
            "video 1/1 (98/545) /content/drive/MyDrive/yolov8/DJI_0799.MP4: 384x640 3 persons, 2 cars, 1 fire hydrant, 1 skateboard, 64.1ms\n",
            "video 1/1 (99/545) /content/drive/MyDrive/yolov8/DJI_0799.MP4: 384x640 4 persons, 1 car, 1 sports ball, 1 skateboard, 64.2ms\n",
            "video 1/1 (100/545) /content/drive/MyDrive/yolov8/DJI_0799.MP4: 384x640 5 persons, 2 cars, 72.0ms\n",
            "video 1/1 (101/545) /content/drive/MyDrive/yolov8/DJI_0799.MP4: 384x640 4 persons, 1 car, 1 fire hydrant, 1 sports ball, 66.6ms\n",
            "video 1/1 (102/545) /content/drive/MyDrive/yolov8/DJI_0799.MP4: 384x640 3 persons, 1 car, 1 fire hydrant, 1 sports ball, 63.1ms\n",
            "video 1/1 (103/545) /content/drive/MyDrive/yolov8/DJI_0799.MP4: 384x640 3 persons, 1 car, 1 fire hydrant, 64.9ms\n",
            "video 1/1 (104/545) /content/drive/MyDrive/yolov8/DJI_0799.MP4: 384x640 3 persons, 1 car, 1 fire hydrant, 71.5ms\n",
            "video 1/1 (105/545) /content/drive/MyDrive/yolov8/DJI_0799.MP4: 384x640 3 persons, 1 car, 1 fire hydrant, 1 skateboard, 65.6ms\n",
            "video 1/1 (106/545) /content/drive/MyDrive/yolov8/DJI_0799.MP4: 384x640 3 persons, 1 car, 1 fire hydrant, 1 skateboard, 69.4ms\n",
            "video 1/1 (107/545) /content/drive/MyDrive/yolov8/DJI_0799.MP4: 384x640 3 persons, 1 car, 1 fire hydrant, 1 sports ball, 63.1ms\n",
            "video 1/1 (108/545) /content/drive/MyDrive/yolov8/DJI_0799.MP4: 384x640 3 persons, 1 car, 1 fire hydrant, 1 sports ball, 63.1ms\n",
            "video 1/1 (109/545) /content/drive/MyDrive/yolov8/DJI_0799.MP4: 384x640 3 persons, 1 car, 1 fire hydrant, 63.1ms\n",
            "video 1/1 (110/545) /content/drive/MyDrive/yolov8/DJI_0799.MP4: 384x640 3 persons, 1 car, 1 fire hydrant, 1 sports ball, 63.1ms\n",
            "video 1/1 (111/545) /content/drive/MyDrive/yolov8/DJI_0799.MP4: 384x640 3 persons, 1 car, 1 fire hydrant, 1 sports ball, 63.1ms\n",
            "video 1/1 (112/545) /content/drive/MyDrive/yolov8/DJI_0799.MP4: 384x640 3 persons, 1 car, 1 fire hydrant, 1 sports ball, 63.1ms\n",
            "video 1/1 (113/545) /content/drive/MyDrive/yolov8/DJI_0799.MP4: 384x640 3 persons, 1 car, 1 fire hydrant, 1 sports ball, 63.1ms\n",
            "video 1/1 (114/545) /content/drive/MyDrive/yolov8/DJI_0799.MP4: 384x640 3 persons, 1 car, 1 fire hydrant, 1 snowboard, 1 sports ball, 1 skateboard, 70.0ms\n",
            "video 1/1 (115/545) /content/drive/MyDrive/yolov8/DJI_0799.MP4: 384x640 4 persons, 1 car, 1 sports ball, 1 skateboard, 63.1ms\n",
            "video 1/1 (116/545) /content/drive/MyDrive/yolov8/DJI_0799.MP4: 384x640 3 persons, 1 car, 1 fire hydrant, 1 sports ball, 63.2ms\n",
            "video 1/1 (117/545) /content/drive/MyDrive/yolov8/DJI_0799.MP4: 384x640 3 persons, 1 car, 1 fire hydrant, 1 sports ball, 63.1ms\n",
            "video 1/1 (118/545) /content/drive/MyDrive/yolov8/DJI_0799.MP4: 384x640 4 persons, 1 car, 1 sports ball, 63.1ms\n",
            "video 1/1 (119/545) /content/drive/MyDrive/yolov8/DJI_0799.MP4: 384x640 3 persons, 1 car, 1 fire hydrant, 1 snowboard, 63.5ms\n",
            "video 1/1 (120/545) /content/drive/MyDrive/yolov8/DJI_0799.MP4: 384x640 3 persons, 1 car, 1 fire hydrant, 1 frisbee, 1 skateboard, 63.1ms\n",
            "video 1/1 (121/545) /content/drive/MyDrive/yolov8/DJI_0799.MP4: 384x640 4 persons, 1 car, 80.9ms\n",
            "video 1/1 (122/545) /content/drive/MyDrive/yolov8/DJI_0799.MP4: 384x640 4 persons, 1 car, 73.0ms\n",
            "video 1/1 (123/545) /content/drive/MyDrive/yolov8/DJI_0799.MP4: 384x640 3 persons, 2 cars, 1 fire hydrant, 67.8ms\n",
            "video 1/1 (124/545) /content/drive/MyDrive/yolov8/DJI_0799.MP4: 384x640 4 persons, 1 car, 63.1ms\n",
            "video 1/1 (125/545) /content/drive/MyDrive/yolov8/DJI_0799.MP4: 384x640 3 persons, 2 cars, 1 fire hydrant, 63.2ms\n",
            "video 1/1 (126/545) /content/drive/MyDrive/yolov8/DJI_0799.MP4: 384x640 4 persons, 2 cars, 1 fire hydrant, 75.6ms\n",
            "video 1/1 (127/545) /content/drive/MyDrive/yolov8/DJI_0799.MP4: 384x640 4 persons, 1 car, 63.1ms\n",
            "video 1/1 (128/545) /content/drive/MyDrive/yolov8/DJI_0799.MP4: 384x640 3 persons, 1 car, 63.1ms\n",
            "video 1/1 (129/545) /content/drive/MyDrive/yolov8/DJI_0799.MP4: 384x640 4 persons, 1 car, 63.1ms\n",
            "video 1/1 (130/545) /content/drive/MyDrive/yolov8/DJI_0799.MP4: 384x640 4 persons, 1 car, 68.9ms\n",
            "video 1/1 (131/545) /content/drive/MyDrive/yolov8/DJI_0799.MP4: 384x640 3 persons, 1 car, 1 fire hydrant, 1 skateboard, 63.1ms\n",
            "video 1/1 (132/545) /content/drive/MyDrive/yolov8/DJI_0799.MP4: 384x640 4 persons, 1 car, 1 fire hydrant, 1 skateboard, 63.1ms\n",
            "video 1/1 (133/545) /content/drive/MyDrive/yolov8/DJI_0799.MP4: 384x640 4 persons, 1 car, 63.1ms\n",
            "video 1/1 (134/545) /content/drive/MyDrive/yolov8/DJI_0799.MP4: 384x640 4 persons, 1 car, 77.5ms\n",
            "video 1/1 (135/545) /content/drive/MyDrive/yolov8/DJI_0799.MP4: 384x640 3 persons, 1 car, 63.2ms\n",
            "video 1/1 (136/545) /content/drive/MyDrive/yolov8/DJI_0799.MP4: 384x640 4 persons, 1 car, 63.1ms\n",
            "video 1/1 (137/545) /content/drive/MyDrive/yolov8/DJI_0799.MP4: 384x640 3 persons, 1 car, 1 fire hydrant, 69.4ms\n",
            "video 1/1 (138/545) /content/drive/MyDrive/yolov8/DJI_0799.MP4: 384x640 3 persons, 2 cars, 1 fire hydrant, 64.7ms\n",
            "video 1/1 (139/545) /content/drive/MyDrive/yolov8/DJI_0799.MP4: 384x640 3 persons, 2 cars, 1 fire hydrant, 64.0ms\n",
            "video 1/1 (140/545) /content/drive/MyDrive/yolov8/DJI_0799.MP4: 384x640 3 persons, 2 cars, 1 fire hydrant, 69.8ms\n",
            "video 1/1 (141/545) /content/drive/MyDrive/yolov8/DJI_0799.MP4: 384x640 3 persons, 2 cars, 1 fire hydrant, 70.4ms\n",
            "video 1/1 (142/545) /content/drive/MyDrive/yolov8/DJI_0799.MP4: 384x640 3 persons, 2 cars, 1 fire hydrant, 63.2ms\n",
            "video 1/1 (143/545) /content/drive/MyDrive/yolov8/DJI_0799.MP4: 384x640 3 persons, 2 cars, 1 fire hydrant, 63.2ms\n",
            "video 1/1 (144/545) /content/drive/MyDrive/yolov8/DJI_0799.MP4: 384x640 3 persons, 2 cars, 1 fire hydrant, 1 skateboard, 63.1ms\n",
            "video 1/1 (145/545) /content/drive/MyDrive/yolov8/DJI_0799.MP4: 384x640 3 persons, 2 cars, 1 fire hydrant, 1 skateboard, 63.1ms\n",
            "video 1/1 (146/545) /content/drive/MyDrive/yolov8/DJI_0799.MP4: 384x640 3 persons, 2 cars, 1 fire hydrant, 63.1ms\n",
            "video 1/1 (147/545) /content/drive/MyDrive/yolov8/DJI_0799.MP4: 384x640 3 persons, 1 car, 1 fire hydrant, 1 sports ball, 1 skateboard, 63.1ms\n",
            "video 1/1 (148/545) /content/drive/MyDrive/yolov8/DJI_0799.MP4: 384x640 3 persons, 2 cars, 2 fire hydrants, 64.6ms\n",
            "video 1/1 (149/545) /content/drive/MyDrive/yolov8/DJI_0799.MP4: 384x640 4 persons, 2 cars, 1 fire hydrant, 63.1ms\n",
            "video 1/1 (150/545) /content/drive/MyDrive/yolov8/DJI_0799.MP4: 384x640 3 persons, 2 cars, 2 fire hydrants, 63.1ms\n",
            "video 1/1 (151/545) /content/drive/MyDrive/yolov8/DJI_0799.MP4: 384x640 3 persons, 1 car, 1 fire hydrant, 63.1ms\n",
            "video 1/1 (152/545) /content/drive/MyDrive/yolov8/DJI_0799.MP4: 384x640 3 persons, 2 cars, 63.1ms\n",
            "video 1/1 (153/545) /content/drive/MyDrive/yolov8/DJI_0799.MP4: 384x640 4 persons, 2 cars, 68.8ms\n",
            "video 1/1 (154/545) /content/drive/MyDrive/yolov8/DJI_0799.MP4: 384x640 3 persons, 2 cars, 1 fire hydrant, 63.1ms\n",
            "video 1/1 (155/545) /content/drive/MyDrive/yolov8/DJI_0799.MP4: 384x640 3 persons, 2 cars, 1 fire hydrant, 63.2ms\n",
            "video 1/1 (156/545) /content/drive/MyDrive/yolov8/DJI_0799.MP4: 384x640 3 persons, 2 cars, 1 fire hydrant, 63.1ms\n",
            "video 1/1 (157/545) /content/drive/MyDrive/yolov8/DJI_0799.MP4: 384x640 3 persons, 1 car, 1 fire hydrant, 66.1ms\n",
            "video 1/1 (158/545) /content/drive/MyDrive/yolov8/DJI_0799.MP4: 384x640 4 persons, 1 car, 63.1ms\n",
            "video 1/1 (159/545) /content/drive/MyDrive/yolov8/DJI_0799.MP4: 384x640 3 persons, 1 car, 1 fire hydrant, 63.1ms\n",
            "video 1/1 (160/545) /content/drive/MyDrive/yolov8/DJI_0799.MP4: 384x640 3 persons, 1 car, 1 fire hydrant, 63.2ms\n",
            "video 1/1 (161/545) /content/drive/MyDrive/yolov8/DJI_0799.MP4: 384x640 3 persons, 1 car, 1 fire hydrant, 63.7ms\n",
            "video 1/1 (162/545) /content/drive/MyDrive/yolov8/DJI_0799.MP4: 384x640 3 persons, 1 car, 1 fire hydrant, 63.1ms\n",
            "video 1/1 (163/545) /content/drive/MyDrive/yolov8/DJI_0799.MP4: 384x640 3 persons, 1 car, 1 fire hydrant, 63.1ms\n",
            "video 1/1 (164/545) /content/drive/MyDrive/yolov8/DJI_0799.MP4: 384x640 3 persons, 1 car, 1 fire hydrant, 63.2ms\n",
            "video 1/1 (165/545) /content/drive/MyDrive/yolov8/DJI_0799.MP4: 384x640 4 persons, 1 car, 63.1ms\n",
            "video 1/1 (166/545) /content/drive/MyDrive/yolov8/DJI_0799.MP4: 384x640 3 persons, 1 car, 1 fire hydrant, 65.8ms\n",
            "video 1/1 (167/545) /content/drive/MyDrive/yolov8/DJI_0799.MP4: 384x640 3 persons, 1 car, 1 fire hydrant, 63.1ms\n",
            "video 1/1 (168/545) /content/drive/MyDrive/yolov8/DJI_0799.MP4: 384x640 3 persons, 2 cars, 1 fire hydrant, 63.3ms\n",
            "video 1/1 (169/545) /content/drive/MyDrive/yolov8/DJI_0799.MP4: 384x640 4 persons, 2 cars, 63.5ms\n",
            "video 1/1 (170/545) /content/drive/MyDrive/yolov8/DJI_0799.MP4: 384x640 4 persons, 2 cars, 63.1ms\n",
            "video 1/1 (171/545) /content/drive/MyDrive/yolov8/DJI_0799.MP4: 384x640 4 persons, 1 car, 78.2ms\n",
            "video 1/1 (172/545) /content/drive/MyDrive/yolov8/DJI_0799.MP4: 384x640 4 persons, 1 car, 63.6ms\n",
            "video 1/1 (173/545) /content/drive/MyDrive/yolov8/DJI_0799.MP4: 384x640 4 persons, 1 car, 70.3ms\n",
            "video 1/1 (174/545) /content/drive/MyDrive/yolov8/DJI_0799.MP4: 384x640 2 persons, 1 car, 87.1ms\n",
            "video 1/1 (175/545) /content/drive/MyDrive/yolov8/DJI_0799.MP4: 384x640 2 persons, 1 car, 1 fire hydrant, 1 skateboard, 67.9ms\n",
            "video 1/1 (176/545) /content/drive/MyDrive/yolov8/DJI_0799.MP4: 384x640 2 persons, 1 car, 1 fire hydrant, 63.2ms\n",
            "video 1/1 (177/545) /content/drive/MyDrive/yolov8/DJI_0799.MP4: 384x640 3 persons, 1 car, 2 fire hydrants, 65.6ms\n",
            "video 1/1 (178/545) /content/drive/MyDrive/yolov8/DJI_0799.MP4: 384x640 4 persons, 1 car, 63.2ms\n",
            "video 1/1 (179/545) /content/drive/MyDrive/yolov8/DJI_0799.MP4: 384x640 4 persons, 1 car, 63.1ms\n",
            "video 1/1 (180/545) /content/drive/MyDrive/yolov8/DJI_0799.MP4: 384x640 2 persons, 1 car, 1 fire hydrant, 63.1ms\n",
            "video 1/1 (181/545) /content/drive/MyDrive/yolov8/DJI_0799.MP4: 384x640 2 persons, 1 car, 1 fire hydrant, 63.3ms\n",
            "video 1/1 (182/545) /content/drive/MyDrive/yolov8/DJI_0799.MP4: 384x640 3 persons, 1 car, 1 fire hydrant, 63.1ms\n",
            "video 1/1 (183/545) /content/drive/MyDrive/yolov8/DJI_0799.MP4: 384x640 2 persons, 1 car, 1 fire hydrant, 63.1ms\n",
            "video 1/1 (184/545) /content/drive/MyDrive/yolov8/DJI_0799.MP4: 384x640 4 persons, 1 car, 1 fire hydrant, 64.9ms\n",
            "video 1/1 (185/545) /content/drive/MyDrive/yolov8/DJI_0799.MP4: 384x640 2 persons, 1 car, 63.2ms\n",
            "video 1/1 (186/545) /content/drive/MyDrive/yolov8/DJI_0799.MP4: 384x640 2 persons, 1 car, 1 fire hydrant, 63.1ms\n",
            "video 1/1 (187/545) /content/drive/MyDrive/yolov8/DJI_0799.MP4: 384x640 2 persons, 1 car, 1 fire hydrant, 63.1ms\n",
            "video 1/1 (188/545) /content/drive/MyDrive/yolov8/DJI_0799.MP4: 384x640 2 persons, 1 car, 1 fire hydrant, 63.1ms\n",
            "video 1/1 (189/545) /content/drive/MyDrive/yolov8/DJI_0799.MP4: 384x640 3 persons, 1 car, 1 fire hydrant, 63.1ms\n",
            "video 1/1 (190/545) /content/drive/MyDrive/yolov8/DJI_0799.MP4: 384x640 3 persons, 1 car, 1 fire hydrant, 63.1ms\n",
            "video 1/1 (191/545) /content/drive/MyDrive/yolov8/DJI_0799.MP4: 384x640 2 persons, 1 car, 2 fire hydrants, 63.1ms\n",
            "video 1/1 (192/545) /content/drive/MyDrive/yolov8/DJI_0799.MP4: 384x640 2 persons, 1 car, 1 fire hydrant, 63.1ms\n",
            "video 1/1 (193/545) /content/drive/MyDrive/yolov8/DJI_0799.MP4: 384x640 2 persons, 1 car, 2 fire hydrants, 63.1ms\n",
            "video 1/1 (194/545) /content/drive/MyDrive/yolov8/DJI_0799.MP4: 384x640 3 persons, 1 car, 63.2ms\n",
            "video 1/1 (195/545) /content/drive/MyDrive/yolov8/DJI_0799.MP4: 384x640 2 persons, 1 car, 63.1ms\n",
            "video 1/1 (196/545) /content/drive/MyDrive/yolov8/DJI_0799.MP4: 384x640 3 persons, 1 car, 63.1ms\n",
            "video 1/1 (197/545) /content/drive/MyDrive/yolov8/DJI_0799.MP4: 384x640 3 persons, 1 car, 63.2ms\n",
            "video 1/1 (198/545) /content/drive/MyDrive/yolov8/DJI_0799.MP4: 384x640 3 persons, 1 car, 63.2ms\n",
            "video 1/1 (199/545) /content/drive/MyDrive/yolov8/DJI_0799.MP4: 384x640 4 persons, 1 car, 63.1ms\n",
            "video 1/1 (200/545) /content/drive/MyDrive/yolov8/DJI_0799.MP4: 384x640 4 persons, 1 car, 63.1ms\n",
            "video 1/1 (201/545) /content/drive/MyDrive/yolov8/DJI_0799.MP4: 384x640 3 persons, 1 car, 63.1ms\n",
            "video 1/1 (202/545) /content/drive/MyDrive/yolov8/DJI_0799.MP4: 384x640 3 persons, 1 car, 63.2ms\n",
            "video 1/1 (203/545) /content/drive/MyDrive/yolov8/DJI_0799.MP4: 384x640 2 persons, 1 car, 63.1ms\n",
            "video 1/1 (204/545) /content/drive/MyDrive/yolov8/DJI_0799.MP4: 384x640 3 persons, 1 car, 63.1ms\n",
            "video 1/1 (205/545) /content/drive/MyDrive/yolov8/DJI_0799.MP4: 384x640 3 persons, 1 car, 1 bird, 63.1ms\n",
            "video 1/1 (206/545) /content/drive/MyDrive/yolov8/DJI_0799.MP4: 384x640 2 persons, 1 car, 1 fire hydrant, 63.2ms\n",
            "video 1/1 (207/545) /content/drive/MyDrive/yolov8/DJI_0799.MP4: 384x640 2 persons, 1 car, 1 fire hydrant, 63.1ms\n",
            "video 1/1 (208/545) /content/drive/MyDrive/yolov8/DJI_0799.MP4: 384x640 2 persons, 2 cars, 63.1ms\n",
            "video 1/1 (209/545) /content/drive/MyDrive/yolov8/DJI_0799.MP4: 384x640 3 persons, 1 car, 63.1ms\n",
            "video 1/1 (210/545) /content/drive/MyDrive/yolov8/DJI_0799.MP4: 384x640 2 persons, 1 car, 1 fire hydrant, 63.1ms\n",
            "video 1/1 (211/545) /content/drive/MyDrive/yolov8/DJI_0799.MP4: 384x640 3 persons, 1 car, 63.3ms\n",
            "video 1/1 (212/545) /content/drive/MyDrive/yolov8/DJI_0799.MP4: 384x640 3 persons, 1 car, 1 fire hydrant, 65.9ms\n",
            "video 1/1 (213/545) /content/drive/MyDrive/yolov8/DJI_0799.MP4: 384x640 2 persons, 1 car, 1 fire hydrant, 63.1ms\n",
            "video 1/1 (214/545) /content/drive/MyDrive/yolov8/DJI_0799.MP4: 384x640 3 persons, 1 car, 1 fire hydrant, 65.6ms\n",
            "video 1/1 (215/545) /content/drive/MyDrive/yolov8/DJI_0799.MP4: 384x640 3 persons, 1 car, 67.3ms\n",
            "video 1/1 (216/545) /content/drive/MyDrive/yolov8/DJI_0799.MP4: 384x640 2 persons, 1 car, 1 fire hydrant, 69.1ms\n",
            "video 1/1 (217/545) /content/drive/MyDrive/yolov8/DJI_0799.MP4: 384x640 2 persons, 1 car, 1 fire hydrant, 69.7ms\n",
            "video 1/1 (218/545) /content/drive/MyDrive/yolov8/DJI_0799.MP4: 384x640 3 persons, 1 car, 63.5ms\n",
            "video 1/1 (219/545) /content/drive/MyDrive/yolov8/DJI_0799.MP4: 384x640 3 persons, 1 car, 63.2ms\n",
            "video 1/1 (220/545) /content/drive/MyDrive/yolov8/DJI_0799.MP4: 384x640 3 persons, 1 car, 63.2ms\n",
            "video 1/1 (221/545) /content/drive/MyDrive/yolov8/DJI_0799.MP4: 384x640 3 persons, 1 car, 63.1ms\n",
            "video 1/1 (222/545) /content/drive/MyDrive/yolov8/DJI_0799.MP4: 384x640 3 persons, 1 car, 63.2ms\n",
            "video 1/1 (223/545) /content/drive/MyDrive/yolov8/DJI_0799.MP4: 384x640 3 persons, 1 car, 63.1ms\n",
            "video 1/1 (224/545) /content/drive/MyDrive/yolov8/DJI_0799.MP4: 384x640 3 persons, 1 car, 63.1ms\n",
            "video 1/1 (225/545) /content/drive/MyDrive/yolov8/DJI_0799.MP4: 384x640 3 persons, 1 car, 63.1ms\n",
            "video 1/1 (226/545) /content/drive/MyDrive/yolov8/DJI_0799.MP4: 384x640 3 persons, 1 car, 63.2ms\n",
            "video 1/1 (227/545) /content/drive/MyDrive/yolov8/DJI_0799.MP4: 384x640 2 persons, 1 car, 1 fire hydrant, 63.1ms\n",
            "video 1/1 (228/545) /content/drive/MyDrive/yolov8/DJI_0799.MP4: 384x640 2 persons, 1 car, 1 fire hydrant, 63.1ms\n",
            "video 1/1 (229/545) /content/drive/MyDrive/yolov8/DJI_0799.MP4: 384x640 2 persons, 1 car, 1 fire hydrant, 68.3ms\n",
            "video 1/1 (230/545) /content/drive/MyDrive/yolov8/DJI_0799.MP4: 384x640 3 persons, 1 car, 63.1ms\n",
            "video 1/1 (231/545) /content/drive/MyDrive/yolov8/DJI_0799.MP4: 384x640 2 persons, 1 car, 1 fire hydrant, 63.1ms\n",
            "video 1/1 (232/545) /content/drive/MyDrive/yolov8/DJI_0799.MP4: 384x640 2 persons, 1 car, 1 fire hydrant, 63.1ms\n",
            "video 1/1 (233/545) /content/drive/MyDrive/yolov8/DJI_0799.MP4: 384x640 2 persons, 1 car, 1 fire hydrant, 63.2ms\n",
            "video 1/1 (234/545) /content/drive/MyDrive/yolov8/DJI_0799.MP4: 384x640 3 persons, 1 car, 63.2ms\n",
            "video 1/1 (235/545) /content/drive/MyDrive/yolov8/DJI_0799.MP4: 384x640 3 persons, 1 car, 63.1ms\n",
            "video 1/1 (236/545) /content/drive/MyDrive/yolov8/DJI_0799.MP4: 384x640 3 persons, 1 car, 69.4ms\n",
            "video 1/1 (237/545) /content/drive/MyDrive/yolov8/DJI_0799.MP4: 384x640 3 persons, 1 car, 64.8ms\n",
            "video 1/1 (238/545) /content/drive/MyDrive/yolov8/DJI_0799.MP4: 384x640 3 persons, 1 car, 63.1ms\n",
            "video 1/1 (239/545) /content/drive/MyDrive/yolov8/DJI_0799.MP4: 384x640 3 persons, 1 car, 63.2ms\n",
            "video 1/1 (240/545) /content/drive/MyDrive/yolov8/DJI_0799.MP4: 384x640 3 persons, 1 car, 63.1ms\n",
            "video 1/1 (241/545) /content/drive/MyDrive/yolov8/DJI_0799.MP4: 384x640 3 persons, 1 car, 63.1ms\n",
            "video 1/1 (242/545) /content/drive/MyDrive/yolov8/DJI_0799.MP4: 384x640 3 persons, 1 car, 63.1ms\n",
            "video 1/1 (243/545) /content/drive/MyDrive/yolov8/DJI_0799.MP4: 384x640 3 persons, 1 car, 63.1ms\n",
            "video 1/1 (244/545) /content/drive/MyDrive/yolov8/DJI_0799.MP4: 384x640 3 persons, 1 car, 63.1ms\n",
            "video 1/1 (245/545) /content/drive/MyDrive/yolov8/DJI_0799.MP4: 384x640 3 persons, 1 car, 63.2ms\n",
            "video 1/1 (246/545) /content/drive/MyDrive/yolov8/DJI_0799.MP4: 384x640 3 persons, 1 car, 63.1ms\n",
            "video 1/1 (247/545) /content/drive/MyDrive/yolov8/DJI_0799.MP4: 384x640 3 persons, 1 car, 63.1ms\n",
            "video 1/1 (248/545) /content/drive/MyDrive/yolov8/DJI_0799.MP4: 384x640 3 persons, 1 car, 63.2ms\n",
            "video 1/1 (249/545) /content/drive/MyDrive/yolov8/DJI_0799.MP4: 384x640 3 persons, 1 car, 63.1ms\n",
            "video 1/1 (250/545) /content/drive/MyDrive/yolov8/DJI_0799.MP4: 384x640 3 persons, 1 car, 63.1ms\n",
            "video 1/1 (251/545) /content/drive/MyDrive/yolov8/DJI_0799.MP4: 384x640 3 persons, 1 car, 63.2ms\n",
            "video 1/1 (252/545) /content/drive/MyDrive/yolov8/DJI_0799.MP4: 384x640 3 persons, 1 car, 63.1ms\n",
            "video 1/1 (253/545) /content/drive/MyDrive/yolov8/DJI_0799.MP4: 384x640 3 persons, 1 car, 63.1ms\n",
            "video 1/1 (254/545) /content/drive/MyDrive/yolov8/DJI_0799.MP4: 384x640 3 persons, 1 car, 63.2ms\n",
            "video 1/1 (255/545) /content/drive/MyDrive/yolov8/DJI_0799.MP4: 384x640 3 persons, 1 car, 63.1ms\n",
            "video 1/1 (256/545) /content/drive/MyDrive/yolov8/DJI_0799.MP4: 384x640 3 persons, 1 car, 63.3ms\n",
            "video 1/1 (257/545) /content/drive/MyDrive/yolov8/DJI_0799.MP4: 384x640 3 persons, 1 car, 63.1ms\n",
            "video 1/1 (258/545) /content/drive/MyDrive/yolov8/DJI_0799.MP4: 384x640 3 persons, 1 car, 63.1ms\n",
            "video 1/1 (259/545) /content/drive/MyDrive/yolov8/DJI_0799.MP4: 384x640 3 persons, 1 car, 68.0ms\n",
            "video 1/1 (260/545) /content/drive/MyDrive/yolov8/DJI_0799.MP4: 384x640 3 persons, 1 car, 1 fire hydrant, 67.6ms\n",
            "video 1/1 (261/545) /content/drive/MyDrive/yolov8/DJI_0799.MP4: 384x640 3 persons, 1 car, 68.2ms\n",
            "video 1/1 (262/545) /content/drive/MyDrive/yolov8/DJI_0799.MP4: 384x640 3 persons, 1 car, 63.2ms\n",
            "video 1/1 (263/545) /content/drive/MyDrive/yolov8/DJI_0799.MP4: 384x640 2 persons, 1 car, 1 fire hydrant, 66.2ms\n",
            "video 1/1 (264/545) /content/drive/MyDrive/yolov8/DJI_0799.MP4: 384x640 3 persons, 1 car, 67.3ms\n",
            "video 1/1 (265/545) /content/drive/MyDrive/yolov8/DJI_0799.MP4: 384x640 3 persons, 1 car, 63.4ms\n",
            "video 1/1 (266/545) /content/drive/MyDrive/yolov8/DJI_0799.MP4: 384x640 3 persons, 1 car, 67.6ms\n",
            "video 1/1 (267/545) /content/drive/MyDrive/yolov8/DJI_0799.MP4: 384x640 3 persons, 1 car, 1 fire hydrant, 63.1ms\n",
            "video 1/1 (268/545) /content/drive/MyDrive/yolov8/DJI_0799.MP4: 384x640 3 persons, 1 car, 63.1ms\n",
            "video 1/1 (269/545) /content/drive/MyDrive/yolov8/DJI_0799.MP4: 384x640 3 persons, 2 cars, 63.1ms\n",
            "video 1/1 (270/545) /content/drive/MyDrive/yolov8/DJI_0799.MP4: 384x640 3 persons, 1 car, 63.2ms\n",
            "video 1/1 (271/545) /content/drive/MyDrive/yolov8/DJI_0799.MP4: 384x640 3 persons, 1 car, 63.1ms\n",
            "video 1/1 (272/545) /content/drive/MyDrive/yolov8/DJI_0799.MP4: 384x640 3 persons, 1 car, 63.1ms\n",
            "video 1/1 (273/545) /content/drive/MyDrive/yolov8/DJI_0799.MP4: 384x640 3 persons, 1 car, 63.1ms\n",
            "video 1/1 (274/545) /content/drive/MyDrive/yolov8/DJI_0799.MP4: 384x640 3 persons, 1 car, 63.1ms\n",
            "video 1/1 (275/545) /content/drive/MyDrive/yolov8/DJI_0799.MP4: 384x640 3 persons, 1 car, 63.1ms\n",
            "video 1/1 (276/545) /content/drive/MyDrive/yolov8/DJI_0799.MP4: 384x640 3 persons, 1 car, 63.1ms\n",
            "video 1/1 (277/545) /content/drive/MyDrive/yolov8/DJI_0799.MP4: 384x640 3 persons, 1 car, 63.2ms\n",
            "video 1/1 (278/545) /content/drive/MyDrive/yolov8/DJI_0799.MP4: 384x640 3 persons, 1 car, 63.2ms\n",
            "video 1/1 (279/545) /content/drive/MyDrive/yolov8/DJI_0799.MP4: 384x640 3 persons, 1 car, 63.1ms\n",
            "video 1/1 (280/545) /content/drive/MyDrive/yolov8/DJI_0799.MP4: 384x640 3 persons, 1 car, 63.1ms\n",
            "video 1/1 (281/545) /content/drive/MyDrive/yolov8/DJI_0799.MP4: 384x640 3 persons, 1 car, 63.2ms\n",
            "video 1/1 (282/545) /content/drive/MyDrive/yolov8/DJI_0799.MP4: 384x640 3 persons, 1 car, 1 fire hydrant, 63.2ms\n",
            "video 1/1 (283/545) /content/drive/MyDrive/yolov8/DJI_0799.MP4: 384x640 3 persons, 1 car, 63.1ms\n",
            "video 1/1 (284/545) /content/drive/MyDrive/yolov8/DJI_0799.MP4: 384x640 3 persons, 1 car, 63.2ms\n",
            "video 1/1 (285/545) /content/drive/MyDrive/yolov8/DJI_0799.MP4: 384x640 3 persons, 1 car, 63.1ms\n",
            "video 1/1 (286/545) /content/drive/MyDrive/yolov8/DJI_0799.MP4: 384x640 3 persons, 1 car, 63.1ms\n",
            "video 1/1 (287/545) /content/drive/MyDrive/yolov8/DJI_0799.MP4: 384x640 3 persons, 1 car, 63.1ms\n",
            "video 1/1 (288/545) /content/drive/MyDrive/yolov8/DJI_0799.MP4: 384x640 3 persons, 1 car, 63.1ms\n",
            "video 1/1 (289/545) /content/drive/MyDrive/yolov8/DJI_0799.MP4: 384x640 3 persons, 1 car, 63.1ms\n",
            "video 1/1 (290/545) /content/drive/MyDrive/yolov8/DJI_0799.MP4: 384x640 3 persons, 1 car, 63.2ms\n",
            "video 1/1 (291/545) /content/drive/MyDrive/yolov8/DJI_0799.MP4: 384x640 3 persons, 1 car, 63.1ms\n",
            "video 1/1 (292/545) /content/drive/MyDrive/yolov8/DJI_0799.MP4: 384x640 3 persons, 1 car, 64.5ms\n",
            "video 1/1 (293/545) /content/drive/MyDrive/yolov8/DJI_0799.MP4: 384x640 3 persons, 1 car, 63.2ms\n",
            "video 1/1 (294/545) /content/drive/MyDrive/yolov8/DJI_0799.MP4: 384x640 3 persons, 1 car, 68.0ms\n",
            "video 1/1 (295/545) /content/drive/MyDrive/yolov8/DJI_0799.MP4: 384x640 3 persons, 1 car, 63.1ms\n",
            "video 1/1 (296/545) /content/drive/MyDrive/yolov8/DJI_0799.MP4: 384x640 3 persons, 1 car, 63.2ms\n",
            "video 1/1 (297/545) /content/drive/MyDrive/yolov8/DJI_0799.MP4: 384x640 3 persons, 1 car, 63.2ms\n",
            "video 1/1 (298/545) /content/drive/MyDrive/yolov8/DJI_0799.MP4: 384x640 3 persons, 1 car, 63.2ms\n",
            "video 1/1 (299/545) /content/drive/MyDrive/yolov8/DJI_0799.MP4: 384x640 3 persons, 1 car, 63.1ms\n",
            "video 1/1 (300/545) /content/drive/MyDrive/yolov8/DJI_0799.MP4: 384x640 3 persons, 1 car, 63.1ms\n",
            "video 1/1 (301/545) /content/drive/MyDrive/yolov8/DJI_0799.MP4: 384x640 3 persons, 1 car, 63.1ms\n",
            "video 1/1 (302/545) /content/drive/MyDrive/yolov8/DJI_0799.MP4: 384x640 2 persons, 1 car, 1 dog, 63.1ms\n",
            "video 1/1 (303/545) /content/drive/MyDrive/yolov8/DJI_0799.MP4: 384x640 3 persons, 1 car, 63.1ms\n",
            "video 1/1 (304/545) /content/drive/MyDrive/yolov8/DJI_0799.MP4: 384x640 2 persons, 1 car, 1 fire hydrant, 67.7ms\n",
            "video 1/1 (305/545) /content/drive/MyDrive/yolov8/DJI_0799.MP4: 384x640 1 person, 1 car, 2 fire hydrants, 65.9ms\n",
            "video 1/1 (306/545) /content/drive/MyDrive/yolov8/DJI_0799.MP4: 384x640 3 persons, 1 car, 63.1ms\n",
            "video 1/1 (307/545) /content/drive/MyDrive/yolov8/DJI_0799.MP4: 384x640 3 persons, 1 car, 64.7ms\n",
            "video 1/1 (308/545) /content/drive/MyDrive/yolov8/DJI_0799.MP4: 384x640 3 persons, 1 car, 63.1ms\n",
            "video 1/1 (309/545) /content/drive/MyDrive/yolov8/DJI_0799.MP4: 384x640 3 persons, 1 car, 63.1ms\n",
            "video 1/1 (310/545) /content/drive/MyDrive/yolov8/DJI_0799.MP4: 384x640 3 persons, 1 car, 74.8ms\n",
            "video 1/1 (311/545) /content/drive/MyDrive/yolov8/DJI_0799.MP4: 384x640 3 persons, 1 car, 63.1ms\n",
            "video 1/1 (312/545) /content/drive/MyDrive/yolov8/DJI_0799.MP4: 384x640 2 persons, 1 car, 1 fire hydrant, 63.1ms\n",
            "video 1/1 (313/545) /content/drive/MyDrive/yolov8/DJI_0799.MP4: 384x640 3 persons, 1 car, 70.7ms\n",
            "video 1/1 (314/545) /content/drive/MyDrive/yolov8/DJI_0799.MP4: 384x640 3 persons, 1 car, 63.1ms\n",
            "video 1/1 (315/545) /content/drive/MyDrive/yolov8/DJI_0799.MP4: 384x640 3 persons, 1 car, 63.1ms\n",
            "video 1/1 (316/545) /content/drive/MyDrive/yolov8/DJI_0799.MP4: 384x640 3 persons, 1 car, 63.2ms\n",
            "video 1/1 (317/545) /content/drive/MyDrive/yolov8/DJI_0799.MP4: 384x640 3 persons, 1 car, 63.1ms\n",
            "video 1/1 (318/545) /content/drive/MyDrive/yolov8/DJI_0799.MP4: 384x640 3 persons, 1 car, 63.1ms\n",
            "video 1/1 (319/545) /content/drive/MyDrive/yolov8/DJI_0799.MP4: 384x640 3 persons, 1 car, 63.1ms\n",
            "video 1/1 (320/545) /content/drive/MyDrive/yolov8/DJI_0799.MP4: 384x640 3 persons, 1 car, 2 fire hydrants, 63.2ms\n",
            "video 1/1 (321/545) /content/drive/MyDrive/yolov8/DJI_0799.MP4: 384x640 3 persons, 1 car, 63.2ms\n",
            "video 1/1 (322/545) /content/drive/MyDrive/yolov8/DJI_0799.MP4: 384x640 3 persons, 1 car, 63.1ms\n",
            "video 1/1 (323/545) /content/drive/MyDrive/yolov8/DJI_0799.MP4: 384x640 3 persons, 1 car, 63.1ms\n",
            "video 1/1 (324/545) /content/drive/MyDrive/yolov8/DJI_0799.MP4: 384x640 3 persons, 1 car, 63.1ms\n",
            "video 1/1 (325/545) /content/drive/MyDrive/yolov8/DJI_0799.MP4: 384x640 3 persons, 1 car, 63.2ms\n",
            "video 1/1 (326/545) /content/drive/MyDrive/yolov8/DJI_0799.MP4: 384x640 3 persons, 1 car, 63.1ms\n",
            "video 1/1 (327/545) /content/drive/MyDrive/yolov8/DJI_0799.MP4: 384x640 3 persons, 1 car, 63.1ms\n",
            "video 1/1 (328/545) /content/drive/MyDrive/yolov8/DJI_0799.MP4: 384x640 3 persons, 1 car, 63.1ms\n",
            "video 1/1 (329/545) /content/drive/MyDrive/yolov8/DJI_0799.MP4: 384x640 3 persons, 1 car, 1 fire hydrant, 63.1ms\n",
            "video 1/1 (330/545) /content/drive/MyDrive/yolov8/DJI_0799.MP4: 384x640 3 persons, 1 car, 1 fire hydrant, 63.1ms\n",
            "video 1/1 (331/545) /content/drive/MyDrive/yolov8/DJI_0799.MP4: 384x640 3 persons, 1 car, 63.1ms\n",
            "video 1/1 (332/545) /content/drive/MyDrive/yolov8/DJI_0799.MP4: 384x640 2 persons, 1 car, 1 fire hydrant, 67.6ms\n",
            "video 1/1 (333/545) /content/drive/MyDrive/yolov8/DJI_0799.MP4: 384x640 2 persons, 1 car, 1 fire hydrant, 63.6ms\n",
            "video 1/1 (334/545) /content/drive/MyDrive/yolov8/DJI_0799.MP4: 384x640 2 persons, 1 car, 1 fire hydrant, 63.1ms\n",
            "video 1/1 (335/545) /content/drive/MyDrive/yolov8/DJI_0799.MP4: 384x640 2 persons, 1 car, 1 fire hydrant, 63.2ms\n",
            "video 1/1 (336/545) /content/drive/MyDrive/yolov8/DJI_0799.MP4: 384x640 2 persons, 1 car, 1 fire hydrant, 63.1ms\n",
            "video 1/1 (337/545) /content/drive/MyDrive/yolov8/DJI_0799.MP4: 384x640 2 persons, 1 car, 63.1ms\n",
            "video 1/1 (338/545) /content/drive/MyDrive/yolov8/DJI_0799.MP4: 384x640 3 persons, 1 car, 63.1ms\n",
            "video 1/1 (339/545) /content/drive/MyDrive/yolov8/DJI_0799.MP4: 384x640 3 persons, 1 car, 63.1ms\n",
            "video 1/1 (340/545) /content/drive/MyDrive/yolov8/DJI_0799.MP4: 384x640 3 persons, 1 car, 63.1ms\n",
            "video 1/1 (341/545) /content/drive/MyDrive/yolov8/DJI_0799.MP4: 384x640 3 persons, 1 car, 63.2ms\n",
            "video 1/1 (342/545) /content/drive/MyDrive/yolov8/DJI_0799.MP4: 384x640 3 persons, 1 car, 63.1ms\n",
            "video 1/1 (343/545) /content/drive/MyDrive/yolov8/DJI_0799.MP4: 384x640 3 persons, 1 car, 63.2ms\n",
            "video 1/1 (344/545) /content/drive/MyDrive/yolov8/DJI_0799.MP4: 384x640 3 persons, 1 car, 63.2ms\n",
            "video 1/1 (345/545) /content/drive/MyDrive/yolov8/DJI_0799.MP4: 384x640 3 persons, 1 car, 63.1ms\n",
            "video 1/1 (346/545) /content/drive/MyDrive/yolov8/DJI_0799.MP4: 384x640 3 persons, 1 car, 63.1ms\n",
            "video 1/1 (347/545) /content/drive/MyDrive/yolov8/DJI_0799.MP4: 384x640 3 persons, 1 car, 1 airplane, 63.1ms\n",
            "video 1/1 (348/545) /content/drive/MyDrive/yolov8/DJI_0799.MP4: 384x640 3 persons, 1 car, 1 airplane, 63.1ms\n",
            "video 1/1 (349/545) /content/drive/MyDrive/yolov8/DJI_0799.MP4: 384x640 3 persons, 1 car, 1 airplane, 63.1ms\n",
            "video 1/1 (350/545) /content/drive/MyDrive/yolov8/DJI_0799.MP4: 384x640 3 persons, 1 car, 63.1ms\n",
            "video 1/1 (351/545) /content/drive/MyDrive/yolov8/DJI_0799.MP4: 384x640 3 persons, 1 car, 63.1ms\n",
            "video 1/1 (352/545) /content/drive/MyDrive/yolov8/DJI_0799.MP4: 384x640 3 persons, 1 car, 1 airplane, 63.1ms\n",
            "video 1/1 (353/545) /content/drive/MyDrive/yolov8/DJI_0799.MP4: 384x640 3 persons, 1 car, 63.1ms\n",
            "video 1/1 (354/545) /content/drive/MyDrive/yolov8/DJI_0799.MP4: 384x640 2 persons, 1 car, 65.7ms\n",
            "video 1/1 (355/545) /content/drive/MyDrive/yolov8/DJI_0799.MP4: 384x640 3 persons, 1 car, 66.7ms\n",
            "video 1/1 (356/545) /content/drive/MyDrive/yolov8/DJI_0799.MP4: 384x640 3 persons, 1 car, 67.8ms\n",
            "video 1/1 (357/545) /content/drive/MyDrive/yolov8/DJI_0799.MP4: 384x640 3 persons, 1 car, 63.1ms\n",
            "video 1/1 (358/545) /content/drive/MyDrive/yolov8/DJI_0799.MP4: 384x640 3 persons, 1 car, 63.2ms\n",
            "video 1/1 (359/545) /content/drive/MyDrive/yolov8/DJI_0799.MP4: 384x640 3 persons, 1 car, 1 airplane, 63.1ms\n",
            "video 1/1 (360/545) /content/drive/MyDrive/yolov8/DJI_0799.MP4: 384x640 3 persons, 1 car, 64.5ms\n",
            "video 1/1 (361/545) /content/drive/MyDrive/yolov8/DJI_0799.MP4: 384x640 3 persons, 1 car, 65.2ms\n",
            "video 1/1 (362/545) /content/drive/MyDrive/yolov8/DJI_0799.MP4: 384x640 3 persons, 1 car, 1 airplane, 63.6ms\n",
            "video 1/1 (363/545) /content/drive/MyDrive/yolov8/DJI_0799.MP4: 384x640 3 persons, 1 car, 63.2ms\n",
            "video 1/1 (364/545) /content/drive/MyDrive/yolov8/DJI_0799.MP4: 384x640 3 persons, 1 car, 1 airplane, 65.0ms\n",
            "video 1/1 (365/545) /content/drive/MyDrive/yolov8/DJI_0799.MP4: 384x640 3 persons, 1 car, 1 airplane, 63.1ms\n",
            "video 1/1 (366/545) /content/drive/MyDrive/yolov8/DJI_0799.MP4: 384x640 3 persons, 1 car, 1 airplane, 63.2ms\n",
            "video 1/1 (367/545) /content/drive/MyDrive/yolov8/DJI_0799.MP4: 384x640 3 persons, 1 car, 1 airplane, 63.1ms\n",
            "video 1/1 (368/545) /content/drive/MyDrive/yolov8/DJI_0799.MP4: 384x640 3 persons, 1 car, 63.2ms\n",
            "video 1/1 (369/545) /content/drive/MyDrive/yolov8/DJI_0799.MP4: 384x640 3 persons, 1 car, 63.5ms\n",
            "video 1/1 (370/545) /content/drive/MyDrive/yolov8/DJI_0799.MP4: 384x640 3 persons, 1 car, 63.2ms\n",
            "video 1/1 (371/545) /content/drive/MyDrive/yolov8/DJI_0799.MP4: 384x640 3 persons, 1 car, 1 airplane, 63.1ms\n",
            "video 1/1 (372/545) /content/drive/MyDrive/yolov8/DJI_0799.MP4: 384x640 3 persons, 1 car, 1 airplane, 63.1ms\n",
            "video 1/1 (373/545) /content/drive/MyDrive/yolov8/DJI_0799.MP4: 384x640 3 persons, 1 car, 63.1ms\n",
            "video 1/1 (374/545) /content/drive/MyDrive/yolov8/DJI_0799.MP4: 384x640 3 persons, 1 car, 1 airplane, 63.2ms\n",
            "video 1/1 (375/545) /content/drive/MyDrive/yolov8/DJI_0799.MP4: 384x640 3 persons, 1 car, 63.1ms\n",
            "video 1/1 (376/545) /content/drive/MyDrive/yolov8/DJI_0799.MP4: 384x640 3 persons, 1 car, 63.2ms\n",
            "video 1/1 (377/545) /content/drive/MyDrive/yolov8/DJI_0799.MP4: 384x640 3 persons, 1 car, 1 airplane, 63.1ms\n",
            "video 1/1 (378/545) /content/drive/MyDrive/yolov8/DJI_0799.MP4: 384x640 3 persons, 1 car, 63.1ms\n",
            "video 1/1 (379/545) /content/drive/MyDrive/yolov8/DJI_0799.MP4: 384x640 2 persons, 1 car, 1 airplane, 63.1ms\n",
            "video 1/1 (380/545) /content/drive/MyDrive/yolov8/DJI_0799.MP4: 384x640 3 persons, 1 car, 63.1ms\n",
            "video 1/1 (381/545) /content/drive/MyDrive/yolov8/DJI_0799.MP4: 384x640 3 persons, 1 car, 63.1ms\n",
            "video 1/1 (382/545) /content/drive/MyDrive/yolov8/DJI_0799.MP4: 384x640 3 persons, 2 cars, 63.1ms\n",
            "video 1/1 (383/545) /content/drive/MyDrive/yolov8/DJI_0799.MP4: 384x640 3 persons, 1 car, 1 airplane, 63.1ms\n",
            "video 1/1 (384/545) /content/drive/MyDrive/yolov8/DJI_0799.MP4: 384x640 3 persons, 1 car, 63.1ms\n",
            "video 1/1 (385/545) /content/drive/MyDrive/yolov8/DJI_0799.MP4: 384x640 3 persons, 1 car, 63.1ms\n",
            "video 1/1 (386/545) /content/drive/MyDrive/yolov8/DJI_0799.MP4: 384x640 2 persons, 1 car, 1 airplane, 63.1ms\n",
            "video 1/1 (387/545) /content/drive/MyDrive/yolov8/DJI_0799.MP4: 384x640 1 person, 1 car, 1 bird, 63.2ms\n",
            "video 1/1 (388/545) /content/drive/MyDrive/yolov8/DJI_0799.MP4: 384x640 3 persons, 1 car, 1 airplane, 63.1ms\n",
            "video 1/1 (389/545) /content/drive/MyDrive/yolov8/DJI_0799.MP4: 384x640 3 persons, 1 car, 63.1ms\n",
            "video 1/1 (390/545) /content/drive/MyDrive/yolov8/DJI_0799.MP4: 384x640 3 persons, 1 car, 63.1ms\n",
            "video 1/1 (391/545) /content/drive/MyDrive/yolov8/DJI_0799.MP4: 384x640 3 persons, 1 car, 1 airplane, 63.1ms\n",
            "video 1/1 (392/545) /content/drive/MyDrive/yolov8/DJI_0799.MP4: 384x640 3 persons, 1 car, 63.1ms\n",
            "video 1/1 (393/545) /content/drive/MyDrive/yolov8/DJI_0799.MP4: 384x640 3 persons, 1 car, 63.1ms\n",
            "video 1/1 (394/545) /content/drive/MyDrive/yolov8/DJI_0799.MP4: 384x640 3 persons, 1 car, 1 airplane, 63.1ms\n",
            "video 1/1 (395/545) /content/drive/MyDrive/yolov8/DJI_0799.MP4: 384x640 3 persons, 1 car, 63.1ms\n",
            "video 1/1 (396/545) /content/drive/MyDrive/yolov8/DJI_0799.MP4: 384x640 3 persons, 1 car, 1 airplane, 63.1ms\n",
            "video 1/1 (397/545) /content/drive/MyDrive/yolov8/DJI_0799.MP4: 384x640 3 persons, 1 car, 1 airplane, 63.1ms\n",
            "video 1/1 (398/545) /content/drive/MyDrive/yolov8/DJI_0799.MP4: 384x640 3 persons, 1 car, 63.2ms\n",
            "video 1/1 (399/545) /content/drive/MyDrive/yolov8/DJI_0799.MP4: 384x640 2 persons, 1 car, 1 airplane, 63.1ms\n",
            "video 1/1 (400/545) /content/drive/MyDrive/yolov8/DJI_0799.MP4: 384x640 3 persons, 1 car, 1 airplane, 63.1ms\n",
            "video 1/1 (401/545) /content/drive/MyDrive/yolov8/DJI_0799.MP4: 384x640 3 persons, 1 car, 63.1ms\n",
            "video 1/1 (402/545) /content/drive/MyDrive/yolov8/DJI_0799.MP4: 384x640 2 persons, 1 car, 1 airplane, 64.0ms\n",
            "video 1/1 (403/545) /content/drive/MyDrive/yolov8/DJI_0799.MP4: 384x640 3 persons, 1 car, 1 airplane, 63.1ms\n",
            "video 1/1 (404/545) /content/drive/MyDrive/yolov8/DJI_0799.MP4: 384x640 3 persons, 1 car, 63.1ms\n",
            "video 1/1 (405/545) /content/drive/MyDrive/yolov8/DJI_0799.MP4: 384x640 2 persons, 1 car, 63.7ms\n",
            "video 1/1 (406/545) /content/drive/MyDrive/yolov8/DJI_0799.MP4: 384x640 2 persons, 1 car, 1 airplane, 1 bird, 66.8ms\n",
            "video 1/1 (407/545) /content/drive/MyDrive/yolov8/DJI_0799.MP4: 384x640 3 persons, 1 car, 1 airplane, 68.5ms\n",
            "video 1/1 (408/545) /content/drive/MyDrive/yolov8/DJI_0799.MP4: 384x640 3 persons, 1 car, 63.1ms\n",
            "video 1/1 (409/545) /content/drive/MyDrive/yolov8/DJI_0799.MP4: 384x640 2 persons, 1 car, 68.3ms\n",
            "video 1/1 (410/545) /content/drive/MyDrive/yolov8/DJI_0799.MP4: 384x640 2 persons, 1 car, 63.3ms\n",
            "video 1/1 (411/545) /content/drive/MyDrive/yolov8/DJI_0799.MP4: 384x640 3 persons, 1 car, 1 bird, 63.2ms\n",
            "video 1/1 (412/545) /content/drive/MyDrive/yolov8/DJI_0799.MP4: 384x640 2 persons, 1 car, 1 airplane, 63.1ms\n",
            "video 1/1 (413/545) /content/drive/MyDrive/yolov8/DJI_0799.MP4: 384x640 4 persons, 1 car, 1 airplane, 63.1ms\n",
            "video 1/1 (414/545) /content/drive/MyDrive/yolov8/DJI_0799.MP4: 384x640 3 persons, 1 car, 1 airplane, 1 giraffe, 71.4ms\n",
            "video 1/1 (415/545) /content/drive/MyDrive/yolov8/DJI_0799.MP4: 384x640 3 persons, 1 car, 63.1ms\n",
            "video 1/1 (416/545) /content/drive/MyDrive/yolov8/DJI_0799.MP4: 384x640 3 persons, 1 car, 1 airplane, 63.7ms\n",
            "video 1/1 (417/545) /content/drive/MyDrive/yolov8/DJI_0799.MP4: 384x640 3 persons, 1 car, 1 bird, 63.2ms\n",
            "video 1/1 (418/545) /content/drive/MyDrive/yolov8/DJI_0799.MP4: 384x640 3 persons, 1 car, 63.2ms\n",
            "video 1/1 (419/545) /content/drive/MyDrive/yolov8/DJI_0799.MP4: 384x640 3 persons, 1 car, 1 airplane, 63.1ms\n",
            "video 1/1 (420/545) /content/drive/MyDrive/yolov8/DJI_0799.MP4: 384x640 3 persons, 1 car, 63.1ms\n",
            "video 1/1 (421/545) /content/drive/MyDrive/yolov8/DJI_0799.MP4: 384x640 3 persons, 1 car, 1 airplane, 1 bird, 63.1ms\n",
            "video 1/1 (422/545) /content/drive/MyDrive/yolov8/DJI_0799.MP4: 384x640 3 persons, 1 car, 1 airplane, 63.1ms\n",
            "video 1/1 (423/545) /content/drive/MyDrive/yolov8/DJI_0799.MP4: 384x640 3 persons, 1 car, 63.1ms\n",
            "video 1/1 (424/545) /content/drive/MyDrive/yolov8/DJI_0799.MP4: 384x640 3 persons, 1 car, 63.1ms\n",
            "video 1/1 (425/545) /content/drive/MyDrive/yolov8/DJI_0799.MP4: 384x640 3 persons, 1 car, 1 airplane, 63.1ms\n",
            "video 1/1 (426/545) /content/drive/MyDrive/yolov8/DJI_0799.MP4: 384x640 3 persons, 1 car, 1 airplane, 63.1ms\n",
            "video 1/1 (427/545) /content/drive/MyDrive/yolov8/DJI_0799.MP4: 384x640 3 persons, 1 car, 1 airplane, 63.1ms\n",
            "video 1/1 (428/545) /content/drive/MyDrive/yolov8/DJI_0799.MP4: 384x640 3 persons, 1 car, 63.1ms\n",
            "video 1/1 (429/545) /content/drive/MyDrive/yolov8/DJI_0799.MP4: 384x640 3 persons, 1 car, 1 airplane, 63.1ms\n",
            "video 1/1 (430/545) /content/drive/MyDrive/yolov8/DJI_0799.MP4: 384x640 4 persons, 1 car, 1 airplane, 63.1ms\n",
            "video 1/1 (431/545) /content/drive/MyDrive/yolov8/DJI_0799.MP4: 384x640 3 persons, 1 car, 1 airplane, 63.1ms\n",
            "video 1/1 (432/545) /content/drive/MyDrive/yolov8/DJI_0799.MP4: 384x640 2 persons, 1 car, 1 airplane, 63.1ms\n",
            "video 1/1 (433/545) /content/drive/MyDrive/yolov8/DJI_0799.MP4: 384x640 3 persons, 1 car, 1 airplane, 72.3ms\n",
            "video 1/1 (434/545) /content/drive/MyDrive/yolov8/DJI_0799.MP4: 384x640 3 persons, 1 car, 67.4ms\n",
            "video 1/1 (435/545) /content/drive/MyDrive/yolov8/DJI_0799.MP4: 384x640 3 persons, 1 car, 63.2ms\n",
            "video 1/1 (436/545) /content/drive/MyDrive/yolov8/DJI_0799.MP4: 384x640 3 persons, 1 car, 63.1ms\n",
            "video 1/1 (437/545) /content/drive/MyDrive/yolov8/DJI_0799.MP4: 384x640 3 persons, 1 car, 1 airplane, 63.1ms\n",
            "video 1/1 (438/545) /content/drive/MyDrive/yolov8/DJI_0799.MP4: 384x640 3 persons, 1 car, 63.1ms\n",
            "video 1/1 (439/545) /content/drive/MyDrive/yolov8/DJI_0799.MP4: 384x640 3 persons, 1 car, 63.1ms\n",
            "video 1/1 (440/545) /content/drive/MyDrive/yolov8/DJI_0799.MP4: 384x640 3 persons, 1 car, 1 airplane, 1 traffic light, 63.2ms\n",
            "video 1/1 (441/545) /content/drive/MyDrive/yolov8/DJI_0799.MP4: 384x640 2 persons, 1 car, 1 bird, 63.2ms\n",
            "video 1/1 (442/545) /content/drive/MyDrive/yolov8/DJI_0799.MP4: 384x640 3 persons, 1 car, 63.1ms\n",
            "video 1/1 (443/545) /content/drive/MyDrive/yolov8/DJI_0799.MP4: 384x640 3 persons, 1 car, 1 airplane, 63.2ms\n",
            "video 1/1 (444/545) /content/drive/MyDrive/yolov8/DJI_0799.MP4: 384x640 3 persons, 1 car, 1 airplane, 63.1ms\n",
            "video 1/1 (445/545) /content/drive/MyDrive/yolov8/DJI_0799.MP4: 384x640 2 persons, 1 car, 1 airplane, 63.1ms\n",
            "video 1/1 (446/545) /content/drive/MyDrive/yolov8/DJI_0799.MP4: 384x640 2 persons, 1 car, 1 airplane, 63.1ms\n",
            "video 1/1 (447/545) /content/drive/MyDrive/yolov8/DJI_0799.MP4: 384x640 3 persons, 1 car, 1 airplane, 63.1ms\n",
            "video 1/1 (448/545) /content/drive/MyDrive/yolov8/DJI_0799.MP4: 384x640 3 persons, 1 car, 63.1ms\n",
            "video 1/1 (449/545) /content/drive/MyDrive/yolov8/DJI_0799.MP4: 384x640 2 persons, 1 car, 63.1ms\n",
            "video 1/1 (450/545) /content/drive/MyDrive/yolov8/DJI_0799.MP4: 384x640 5 persons, 1 car, 1 airplane, 63.1ms\n",
            "video 1/1 (451/545) /content/drive/MyDrive/yolov8/DJI_0799.MP4: 384x640 4 persons, 1 car, 64.2ms\n",
            "video 1/1 (452/545) /content/drive/MyDrive/yolov8/DJI_0799.MP4: 384x640 3 persons, 1 car, 63.1ms\n",
            "video 1/1 (453/545) /content/drive/MyDrive/yolov8/DJI_0799.MP4: 384x640 3 persons, 1 car, 63.1ms\n",
            "video 1/1 (454/545) /content/drive/MyDrive/yolov8/DJI_0799.MP4: 384x640 2 persons, 1 car, 1 airplane, 66.3ms\n",
            "video 1/1 (455/545) /content/drive/MyDrive/yolov8/DJI_0799.MP4: 384x640 3 persons, 1 car, 1 airplane, 68.6ms\n",
            "video 1/1 (456/545) /content/drive/MyDrive/yolov8/DJI_0799.MP4: 384x640 2 persons, 1 car, 1 airplane, 63.1ms\n",
            "video 1/1 (457/545) /content/drive/MyDrive/yolov8/DJI_0799.MP4: 384x640 4 persons, 1 car, 1 airplane, 64.3ms\n",
            "video 1/1 (458/545) /content/drive/MyDrive/yolov8/DJI_0799.MP4: 384x640 3 persons, 1 car, 1 airplane, 70.3ms\n",
            "video 1/1 (459/545) /content/drive/MyDrive/yolov8/DJI_0799.MP4: 384x640 2 persons, 1 car, 1 airplane, 69.4ms\n",
            "video 1/1 (460/545) /content/drive/MyDrive/yolov8/DJI_0799.MP4: 384x640 3 persons, 1 car, 1 airplane, 63.2ms\n",
            "video 1/1 (461/545) /content/drive/MyDrive/yolov8/DJI_0799.MP4: 384x640 2 persons, 1 car, 1 airplane, 63.1ms\n",
            "video 1/1 (462/545) /content/drive/MyDrive/yolov8/DJI_0799.MP4: 384x640 2 persons, 1 car, 63.2ms\n",
            "video 1/1 (463/545) /content/drive/MyDrive/yolov8/DJI_0799.MP4: 384x640 2 persons, 1 car, 63.1ms\n",
            "video 1/1 (464/545) /content/drive/MyDrive/yolov8/DJI_0799.MP4: 384x640 2 persons, 1 car, 63.1ms\n",
            "video 1/1 (465/545) /content/drive/MyDrive/yolov8/DJI_0799.MP4: 384x640 3 persons, 1 car, 63.1ms\n",
            "video 1/1 (466/545) /content/drive/MyDrive/yolov8/DJI_0799.MP4: 384x640 3 persons, 1 car, 63.1ms\n",
            "video 1/1 (467/545) /content/drive/MyDrive/yolov8/DJI_0799.MP4: 384x640 3 persons, 1 car, 63.1ms\n",
            "video 1/1 (468/545) /content/drive/MyDrive/yolov8/DJI_0799.MP4: 384x640 3 persons, 1 car, 63.2ms\n",
            "video 1/1 (469/545) /content/drive/MyDrive/yolov8/DJI_0799.MP4: 384x640 4 persons, 1 car, 63.1ms\n",
            "video 1/1 (470/545) /content/drive/MyDrive/yolov8/DJI_0799.MP4: 384x640 2 persons, 1 car, 63.9ms\n",
            "video 1/1 (471/545) /content/drive/MyDrive/yolov8/DJI_0799.MP4: 384x640 3 persons, 1 car, 63.1ms\n",
            "video 1/1 (472/545) /content/drive/MyDrive/yolov8/DJI_0799.MP4: 384x640 3 persons, 1 car, 63.1ms\n",
            "video 1/1 (473/545) /content/drive/MyDrive/yolov8/DJI_0799.MP4: 384x640 4 persons, 1 car, 63.1ms\n",
            "video 1/1 (474/545) /content/drive/MyDrive/yolov8/DJI_0799.MP4: 384x640 3 persons, 1 car, 63.1ms\n",
            "video 1/1 (475/545) /content/drive/MyDrive/yolov8/DJI_0799.MP4: 384x640 4 persons, 1 car, 63.1ms\n",
            "video 1/1 (476/545) /content/drive/MyDrive/yolov8/DJI_0799.MP4: 384x640 2 persons, 1 car, 63.1ms\n",
            "video 1/1 (477/545) /content/drive/MyDrive/yolov8/DJI_0799.MP4: 384x640 2 persons, 1 car, 63.1ms\n",
            "video 1/1 (478/545) /content/drive/MyDrive/yolov8/DJI_0799.MP4: 384x640 4 persons, 1 car, 63.1ms\n",
            "video 1/1 (479/545) /content/drive/MyDrive/yolov8/DJI_0799.MP4: 384x640 4 persons, 1 car, 63.1ms\n",
            "video 1/1 (480/545) /content/drive/MyDrive/yolov8/DJI_0799.MP4: 384x640 3 persons, 1 car, 63.5ms\n",
            "video 1/1 (481/545) /content/drive/MyDrive/yolov8/DJI_0799.MP4: 384x640 3 persons, 1 car, 63.1ms\n",
            "video 1/1 (482/545) /content/drive/MyDrive/yolov8/DJI_0799.MP4: 384x640 2 persons, 1 car, 63.1ms\n",
            "video 1/1 (483/545) /content/drive/MyDrive/yolov8/DJI_0799.MP4: 384x640 3 persons, 1 car, 66.4ms\n",
            "video 1/1 (484/545) /content/drive/MyDrive/yolov8/DJI_0799.MP4: 384x640 3 persons, 1 car, 63.1ms\n",
            "video 1/1 (485/545) /content/drive/MyDrive/yolov8/DJI_0799.MP4: 384x640 3 persons, 1 car, 1 backpack, 63.3ms\n",
            "video 1/1 (486/545) /content/drive/MyDrive/yolov8/DJI_0799.MP4: 384x640 3 persons, 1 car, 63.1ms\n",
            "video 1/1 (487/545) /content/drive/MyDrive/yolov8/DJI_0799.MP4: 384x640 3 persons, 1 car, 63.1ms\n",
            "video 1/1 (488/545) /content/drive/MyDrive/yolov8/DJI_0799.MP4: 384x640 3 persons, 1 car, 63.1ms\n",
            "video 1/1 (489/545) /content/drive/MyDrive/yolov8/DJI_0799.MP4: 384x640 3 persons, 1 car, 63.1ms\n",
            "video 1/1 (490/545) /content/drive/MyDrive/yolov8/DJI_0799.MP4: 384x640 3 persons, 1 car, 63.2ms\n",
            "video 1/1 (491/545) /content/drive/MyDrive/yolov8/DJI_0799.MP4: 384x640 3 persons, 1 car, 63.1ms\n",
            "video 1/1 (492/545) /content/drive/MyDrive/yolov8/DJI_0799.MP4: 384x640 3 persons, 1 car, 63.1ms\n",
            "video 1/1 (493/545) /content/drive/MyDrive/yolov8/DJI_0799.MP4: 384x640 2 persons, 1 car, 1 fire hydrant, 63.1ms\n",
            "video 1/1 (494/545) /content/drive/MyDrive/yolov8/DJI_0799.MP4: 384x640 3 persons, 1 car, 63.1ms\n",
            "video 1/1 (495/545) /content/drive/MyDrive/yolov8/DJI_0799.MP4: 384x640 3 persons, 1 car, 1 airplane, 63.8ms\n",
            "video 1/1 (496/545) /content/drive/MyDrive/yolov8/DJI_0799.MP4: 384x640 3 persons, 1 car, 63.1ms\n",
            "video 1/1 (497/545) /content/drive/MyDrive/yolov8/DJI_0799.MP4: 384x640 4 persons, 1 car, 64.4ms\n",
            "video 1/1 (498/545) /content/drive/MyDrive/yolov8/DJI_0799.MP4: 384x640 4 persons, 1 car, 63.1ms\n",
            "video 1/1 (499/545) /content/drive/MyDrive/yolov8/DJI_0799.MP4: 384x640 3 persons, 1 car, 63.1ms\n",
            "video 1/1 (500/545) /content/drive/MyDrive/yolov8/DJI_0799.MP4: 384x640 5 persons, 1 car, 63.1ms\n",
            "video 1/1 (501/545) /content/drive/MyDrive/yolov8/DJI_0799.MP4: 384x640 4 persons, 1 car, 1 airplane, 63.1ms\n",
            "video 1/1 (502/545) /content/drive/MyDrive/yolov8/DJI_0799.MP4: 384x640 4 persons, 1 car, 64.4ms\n",
            "video 1/1 (503/545) /content/drive/MyDrive/yolov8/DJI_0799.MP4: 384x640 3 persons, 1 car, 69.9ms\n",
            "video 1/1 (504/545) /content/drive/MyDrive/yolov8/DJI_0799.MP4: 384x640 3 persons, 1 car, 63.1ms\n",
            "video 1/1 (505/545) /content/drive/MyDrive/yolov8/DJI_0799.MP4: 384x640 5 persons, 1 car, 70.1ms\n",
            "video 1/1 (506/545) /content/drive/MyDrive/yolov8/DJI_0799.MP4: 384x640 4 persons, 1 car, 1 bus, 66.3ms\n",
            "video 1/1 (507/545) /content/drive/MyDrive/yolov8/DJI_0799.MP4: 384x640 4 persons, 1 car, 63.1ms\n",
            "video 1/1 (508/545) /content/drive/MyDrive/yolov8/DJI_0799.MP4: 384x640 4 persons, 1 car, 1 bus, 63.2ms\n",
            "video 1/1 (509/545) /content/drive/MyDrive/yolov8/DJI_0799.MP4: 384x640 4 persons, 1 car, 1 airplane, 63.1ms\n",
            "video 1/1 (510/545) /content/drive/MyDrive/yolov8/DJI_0799.MP4: 384x640 4 persons, 1 car, 1 bus, 63.2ms\n",
            "video 1/1 (511/545) /content/drive/MyDrive/yolov8/DJI_0799.MP4: 384x640 3 persons, 1 car, 1 bus, 63.1ms\n",
            "video 1/1 (512/545) /content/drive/MyDrive/yolov8/DJI_0799.MP4: 384x640 4 persons, 1 car, 63.2ms\n",
            "video 1/1 (513/545) /content/drive/MyDrive/yolov8/DJI_0799.MP4: 384x640 4 persons, 1 car, 63.1ms\n",
            "video 1/1 (514/545) /content/drive/MyDrive/yolov8/DJI_0799.MP4: 384x640 4 persons, 1 car, 1 umbrella, 63.1ms\n",
            "video 1/1 (515/545) /content/drive/MyDrive/yolov8/DJI_0799.MP4: 384x640 3 persons, 2 cars, 1 airplane, 63.1ms\n",
            "video 1/1 (516/545) /content/drive/MyDrive/yolov8/DJI_0799.MP4: 384x640 4 persons, 1 car, 1 bus, 63.1ms\n",
            "video 1/1 (517/545) /content/drive/MyDrive/yolov8/DJI_0799.MP4: 384x640 5 persons, 1 car, 1 airplane, 63.6ms\n",
            "video 1/1 (518/545) /content/drive/MyDrive/yolov8/DJI_0799.MP4: 384x640 3 persons, 1 car, 1 bus, 63.1ms\n",
            "video 1/1 (519/545) /content/drive/MyDrive/yolov8/DJI_0799.MP4: 384x640 4 persons, 1 car, 1 airplane, 63.1ms\n",
            "video 1/1 (520/545) /content/drive/MyDrive/yolov8/DJI_0799.MP4: 384x640 4 persons, 1 car, 63.1ms\n",
            "video 1/1 (521/545) /content/drive/MyDrive/yolov8/DJI_0799.MP4: 384x640 4 persons, 1 car, 63.2ms\n",
            "video 1/1 (522/545) /content/drive/MyDrive/yolov8/DJI_0799.MP4: 384x640 3 persons, 1 car, 63.1ms\n",
            "video 1/1 (523/545) /content/drive/MyDrive/yolov8/DJI_0799.MP4: 384x640 3 persons, 1 car, 63.1ms\n",
            "video 1/1 (524/545) /content/drive/MyDrive/yolov8/DJI_0799.MP4: 384x640 3 persons, 1 car, 1 airplane, 63.1ms\n",
            "video 1/1 (525/545) /content/drive/MyDrive/yolov8/DJI_0799.MP4: 384x640 3 persons, 1 car, 63.1ms\n",
            "video 1/1 (526/545) /content/drive/MyDrive/yolov8/DJI_0799.MP4: 384x640 4 persons, 1 car, 63.2ms\n",
            "video 1/1 (527/545) /content/drive/MyDrive/yolov8/DJI_0799.MP4: 384x640 3 persons, 1 car, 1 backpack, 63.1ms\n",
            "video 1/1 (528/545) /content/drive/MyDrive/yolov8/DJI_0799.MP4: 384x640 3 persons, 2 cars, 63.2ms\n",
            "video 1/1 (529/545) /content/drive/MyDrive/yolov8/DJI_0799.MP4: 384x640 4 persons, 1 car, 63.2ms\n",
            "video 1/1 (530/545) /content/drive/MyDrive/yolov8/DJI_0799.MP4: 384x640 4 persons, 1 car, 63.1ms\n",
            "video 1/1 (531/545) /content/drive/MyDrive/yolov8/DJI_0799.MP4: 384x640 3 persons, 1 bus, 63.1ms\n",
            "video 1/1 (532/545) /content/drive/MyDrive/yolov8/DJI_0799.MP4: 384x640 3 persons, 1 car, 1 airplane, 1 bus, 63.1ms\n",
            "video 1/1 (533/545) /content/drive/MyDrive/yolov8/DJI_0799.MP4: 384x640 4 persons, 1 bus, 63.1ms\n",
            "video 1/1 (534/545) /content/drive/MyDrive/yolov8/DJI_0799.MP4: 384x640 4 persons, 1 bus, 63.1ms\n",
            "video 1/1 (535/545) /content/drive/MyDrive/yolov8/DJI_0799.MP4: 384x640 4 persons, 1 car, 1 bus, 63.1ms\n",
            "video 1/1 (536/545) /content/drive/MyDrive/yolov8/DJI_0799.MP4: 384x640 4 persons, 2 cars, 68.0ms\n",
            "video 1/1 (537/545) /content/drive/MyDrive/yolov8/DJI_0799.MP4: 384x640 4 persons, 3 cars, 63.1ms\n",
            "video 1/1 (538/545) /content/drive/MyDrive/yolov8/DJI_0799.MP4: 384x640 4 persons, 1 car, 63.8ms\n",
            "video 1/1 (539/545) /content/drive/MyDrive/yolov8/DJI_0799.MP4: 384x640 4 persons, 1 car, 63.1ms\n",
            "video 1/1 (540/545) /content/drive/MyDrive/yolov8/DJI_0799.MP4: 384x640 4 persons, 1 car, 1 skis, 63.1ms\n",
            "video 1/1 (541/545) /content/drive/MyDrive/yolov8/DJI_0799.MP4: 384x640 4 persons, 1 car, 63.1ms\n",
            "video 1/1 (542/545) /content/drive/MyDrive/yolov8/DJI_0799.MP4: 384x640 6 persons, 1 car, 63.1ms\n",
            "video 1/1 (543/545) /content/drive/MyDrive/yolov8/DJI_0799.MP4: 384x640 4 persons, 1 car, 63.2ms\n",
            "video 1/1 (544/545) /content/drive/MyDrive/yolov8/DJI_0799.MP4: 384x640 3 persons, 1 car, 63.1ms\n",
            "video 1/1 (545/545) /content/drive/MyDrive/yolov8/DJI_0799.MP4: 384x640 4 persons, 2 cars, 63.1ms\n",
            "Speed: 4.7ms preprocess, 64.0ms inference, 2.5ms postprocess per image at shape (1, 3, 384, 640)\n",
            "Results saved to \u001b[1mruns/detect/predict\u001b[0m\n",
            "💡 Learn more at https://docs.ultralytics.com/modes/predict\n"
          ]
        }
      ]
    },
    {
      "cell_type": "code",
      "source": [
        "# dict maping class_id to class_name\n",
        "CLASS_NAMES_DICT = model.model.names\n",
        "#model.model.names"
      ],
      "metadata": {
        "id": "Q51tzM45Kns_"
      },
      "execution_count": null,
      "outputs": []
    },
    {
      "cell_type": "code",
      "source": [
        "# settings\n",
        "TARGET_VIDEO_PATH = f\"{HOME}/Gangwanri-counting-result.mp4\""
      ],
      "metadata": {
        "id": "cQovdqLqY9tV"
      },
      "execution_count": null,
      "outputs": []
    },
    {
      "cell_type": "code",
      "source": [
        "from supervision.video.dataclasses import VideoInfo\n",
        "\n",
        "VideoInfo.from_video_path(SOURCE_VIDEO_PATH)"
      ],
      "metadata": {
        "colab": {
          "base_uri": "https://localhost:8080/"
        },
        "id": "YAxJ9sz1ZB6P",
        "outputId": "c127af62-02a4-4001-b05d-31914ab62605"
      },
      "execution_count": null,
      "outputs": [
        {
          "output_type": "execute_result",
          "data": {
            "text/plain": [
              "VideoInfo(width=3840, height=2160, fps=29, total_frames=545)"
            ]
          },
          "metadata": {},
          "execution_count": 18
        }
      ]
    },
    {
      "cell_type": "code",
      "source": [
        "from supervision.video.source import get_video_frames_generator\n",
        "from supervision.notebook.utils import show_frame_in_notebook\n",
        "from supervision.tools.detections import Detections, BoxAnnotator\n",
        "from supervision.draw.color import ColorPalette\n",
        "from tqdm.notebook import tqdm\n",
        "\n",
        "\n",
        "# create BYTETracker instance\n",
        "byte_tracker = BYTETracker(BYTETrackerArgs())\n",
        "# create VideoInfo instance\n",
        "video_info = VideoInfo.from_video_path(SOURCE_VIDEO_PATH)\n",
        "# create frame generator\n",
        "generator = get_video_frames_generator(SOURCE_VIDEO_PATH)\n",
        "# create instance of BoxAnnotator and LineCounterAnnotator\n",
        "box_annotator = BoxAnnotator(color=ColorPalette(), thickness=4, text_thickness=4, text_scale=2)\n",
        "\n",
        "\n",
        "# open target video file\n",
        "with VideoSink(TARGET_VIDEO_PATH, video_info) as sink:\n",
        "    # loop over video frames\n",
        "    for frame in tqdm(generator, total=video_info.total_frames):\n",
        "        # model prediction on single frame and conversion to supervision Detections\n",
        "        results = model(frame)\n",
        "\n",
        "        detections = Detections(\n",
        "            xyxy=results[0].boxes.xyxy.cpu().numpy(),\n",
        "            confidence=results[0].boxes.conf.cpu().numpy(),\n",
        "            class_id=results[0].boxes.cls.cpu().numpy().astype(int)\n",
        "        )\n",
        "\n",
        "        # tracking detections\n",
        "        tracks = byte_tracker.update(\n",
        "            output_results=detections2boxes(detections=detections),\n",
        "            img_info=frame.shape,\n",
        "            img_size=frame.shape\n",
        "        )\n",
        "        tracker_id = match_detections_with_tracks(detections=detections, tracks=tracks)\n",
        "        detections.tracker_id = np.array(tracker_id)\n",
        "\n",
        "        # format custom labels\n",
        "        labels = [\n",
        "            f\"#{tracker_id} {CLASS_NAMES_DICT[class_id]} {confidence:0.2f}\"\n",
        "            for _, confidence, class_id, tracker_id\n",
        "            in detections\n",
        "        ]\n",
        "        # annotate and display frame\n",
        "        frame = box_annotator.annotate(frame=frame, detections=detections, labels=labels)\n",
        "\n",
        "        sink.write_frame(frame)"
      ],
      "metadata": {
        "colab": {
          "base_uri": "https://localhost:8080/",
          "height": 67,
          "referenced_widgets": [
            "80891fa774994d85bc558123b5b358c9",
            "48fcb70a4d9c4c9fb5c6a81484804312",
            "1f604c3b4ee34ba3ab13670b09723420",
            "ecfa79f7dea142fd97d141555eefb95b",
            "e7712a07424b4466844a40897027eff0",
            "2f958a37b8624903a947127f377527c4",
            "7dcd730311d2474ea36d5af15ff30b8e",
            "7391f285f85a4ed48b8580fe63fe9149",
            "d063cd354ea54a5f81532f2e6e077cb5",
            "797fd261f2604f78b025d73d09f31879",
            "69b5fabe8660439b8ea12636cf0a9c06"
          ]
        },
        "id": "xfhfLtPEK7VY",
        "outputId": "f9867c18-43a8-4181-8f57-212e2ce10cd4"
      },
      "execution_count": null,
      "outputs": [
        {
          "output_type": "display_data",
          "data": {
            "text/plain": [
              "  0%|          | 0/545 [00:00<?, ?it/s]"
            ],
            "application/vnd.jupyter.widget-view+json": {
              "version_major": 2,
              "version_minor": 0,
              "model_id": "80891fa774994d85bc558123b5b358c9"
            }
          },
          "metadata": {}
        },
        {
          "output_type": "stream",
          "name": "stderr",
          "text": [
            "Ultralytics YOLOv8.0.10 🚀 Python-3.10.12 torch-2.0.1+cu118 CUDA:0 (Tesla T4, 15102MiB)\n"
          ]
        }
      ]
    }
  ]
}
